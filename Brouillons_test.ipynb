{
 "cells": [
  {
   "cell_type": "code",
   "execution_count": 54,
   "id": "initial_id",
   "metadata": {
    "ExecuteTime": {
     "end_time": "2024-11-18T18:34:18.203873Z",
     "start_time": "2024-11-18T18:34:18.197838Z"
    }
   },
   "outputs": [],
   "source": [
    "import numpy as np\n"
   ]
  },
  {
   "cell_type": "code",
   "execution_count": 5,
   "id": "c0f11ecb12b34eb6",
   "metadata": {
    "ExecuteTime": {
     "end_time": "2024-11-18T09:45:25.313685Z",
     "start_time": "2024-11-18T09:45:25.308831Z"
    }
   },
   "outputs": [],
   "source": [
    "dd ={\n",
    "    \"dd\": False\n",
    "}\n"
   ]
  },
  {
   "cell_type": "code",
   "execution_count": 6,
   "id": "96d0fa537ddfad4a",
   "metadata": {
    "ExecuteTime": {
     "end_time": "2024-11-18T09:45:27.021898Z",
     "start_time": "2024-11-18T09:45:27.017011Z"
    }
   },
   "outputs": [
    {
     "name": "stdout",
     "output_type": "stream",
     "text": [
      "ko\n"
     ]
    }
   ],
   "source": [
    "if dd[\"dd\"] is True:\n",
    "    print(\"ok\")\n",
    "else: print(\"ko\")"
   ]
  },
  {
   "cell_type": "code",
   "execution_count": 31,
   "id": "7753e6c41ccde7de",
   "metadata": {
    "ExecuteTime": {
     "end_time": "2024-11-18T17:49:22.640861Z",
     "start_time": "2024-11-18T17:49:22.632953Z"
    }
   },
   "outputs": [],
   "source": [
    "import openmeteo_requests\n",
    "import requests_cache\n",
    "from retry_requests import retry\n",
    "import requests\n",
    "\n",
    "def get_weather_forecast(latitude : float, longitude: float):\n",
    "    \"\"\"Get weather forecast using the Open-Meteo API.\n",
    "\n",
    "    Args:\n",
    "        latitude (float): Latitude of the location.\n",
    "        longitude (float): Longitude of the location.\n",
    "\n",
    "    Returns:\n",
    "        dict: The weather forecast data.\n",
    "    \"\"\"\n",
    "    # Setup the Open-Meteo API client with cache and retry on error\n",
    "    try:\n",
    "         cache_session = requests_cache.CachedSession('.cache', expire_after=3600)\n",
    "         retry_session = retry(cache_session, retries=5, backoff_factor=0.2)\n",
    "         openmeteo = openmeteo_requests.Client(session=retry_session)\n",
    "         \n",
    "         # Make sure all required weather variables are listed here\n",
    "         # The order of variables in hourly or daily is important to assign them correctly below \n",
    "         url = \"https://api.open-meteo.com/v1/forecast\"\n",
    "         params = {\n",
    "        \"latitude\": latitude,\n",
    "        \"longitude\": longitude,\n",
    "        \"hourly\": [\"temperature_2m\", \"rain\"]\n",
    "         }\n",
    "         responses = openmeteo.weather_api(url, params=params)\n",
    "         data = responses[0]\n",
    "    except requests.exceptions.RequestException as e:\n",
    "        return {\"erreur\": str(e)}\n",
    "    return data"
   ]
  },
  {
   "cell_type": "code",
   "execution_count": 32,
   "id": "a17537477837422c",
   "metadata": {
    "ExecuteTime": {
     "end_time": "2024-11-18T17:49:24.523910Z",
     "start_time": "2024-11-18T17:49:24.512183Z"
    }
   },
   "outputs": [],
   "source": [
    "dd = get_weather_forecast(48.8534, 2.3488)"
   ]
  },
  {
   "cell_type": "code",
   "execution_count": 41,
   "id": "71e3884985a23937",
   "metadata": {
    "ExecuteTime": {
     "end_time": "2024-11-18T17:54:56.268631Z",
     "start_time": "2024-11-18T17:54:56.263312Z"
    }
   },
   "outputs": [
    {
     "name": "stdout",
     "output_type": "stream",
     "text": [
      "['GetRootAs', 'GetRootAsVariablesWithTime', 'Init', 'Interval', 'Time', 'TimeEnd', 'Variables', 'VariablesIsNone', 'VariablesLength', '__class__', '__delattr__', '__dir__', '__doc__', '__eq__', '__format__', '__ge__', '__getattribute__', '__getstate__', '__gt__', '__hash__', '__init__', '__init_subclass__', '__le__', '__lt__', '__module__', '__ne__', '__new__', '__reduce__', '__reduce_ex__', '__repr__', '__setattr__', '__sizeof__', '__slots__', '__str__', '__subclasshook__', '_tab']\n"
     ]
    }
   ],
   "source": [
    "hourly = dd.Hourly()\n",
    "print(dir(hourly))"
   ]
  },
  {
   "cell_type": "code",
   "execution_count": 78,
   "id": "1753836a738c1b27",
   "metadata": {
    "ExecuteTime": {
     "end_time": "2024-11-18T18:51:49.731306Z",
     "start_time": "2024-11-18T18:51:49.722741Z"
    }
   },
   "outputs": [
    {
     "data": {
      "text/plain": [
       "array([ 7.8195    ,  8.0695    ,  8.2695    ,  7.6695    ,  7.5195    ,\n",
       "        7.8694997 ,  8.2195    ,  8.169499  ,  8.419499  ,  9.0195    ,\n",
       "        9.419499  , 10.3695    , 10.6195    , 11.2195    , 11.2195    ,\n",
       "       10.919499  , 10.8195    , 10.8195    , 10.8695    , 11.0695    ,\n",
       "       11.169499  , 11.2195    , 11.2695    , 11.2695    , 11.2195    ,\n",
       "       11.0695    , 11.169499  , 11.3695    , 11.5195    , 11.419499  ,\n",
       "       11.419499  , 11.5695    , 11.669499  , 11.9695    , 12.0695    ,\n",
       "       12.3695    , 12.4695    , 12.1195    , 11.5695    , 10.4695    ,\n",
       "        9.3195    ,  8.0695    ,  7.4694996 ,  7.1194997 ,  6.5695    ,\n",
       "        6.4195    ,  5.7695    ,  4.9694996 ,  4.2695    ,  3.5695    ,\n",
       "        2.9195    ,  2.4695    ,  2.2195    ,  1.8195    ,  1.5695    ,\n",
       "        1.3195    ,  1.3695    ,  2.5195    ,  4.0695    ,  5.3195    ,\n",
       "        6.2194996 ,  6.7695    ,  7.0695    ,  6.8195    ,  5.9040003 ,\n",
       "        4.954     ,  4.454     ,  4.1540003 ,  3.854     ,  3.5540001 ,\n",
       "        3.3040001 ,  3.104     ,  2.954     ,  2.7540002 ,  2.5540001 ,\n",
       "        2.454     ,  2.3040001 ,  2.204     ,  1.9039999 ,  1.754     ,\n",
       "        1.754     ,  2.2540002 ,  3.154     ,  4.254     ,  5.1540003 ,\n",
       "        5.604     ,  5.604     ,  5.304     ,  4.304     ,  3.2540002 ,\n",
       "        2.404     ,  1.754     ,  1.254     ,  0.90400004,  0.704     ,\n",
       "        0.65400004,  0.604     ,  0.604     ,  0.604     ,  0.604     ,\n",
       "        0.604     ,  0.604     ,  0.65400004,  0.75399995,  0.90400004,\n",
       "        1.4039999 ,  2.454     ,  3.8040001 ,  4.9040003 ,  5.6540003 ,\n",
       "        6.1540003 ,  6.204     ,  5.604     ,  4.554     ,  3.604     ,\n",
       "        2.954     ,  2.404     ,  2.004     ,  1.804     ,  1.704     ,\n",
       "        1.604     ,  1.4039999 ,  1.1539999 ,  0.90400004,  0.65400004,\n",
       "        0.454     ,  0.404     ,  0.504     ,  0.75399995,  1.104     ,\n",
       "        1.704     ,  2.454     ,  2.954     ,  3.604     ,  4.354     ,\n",
       "        5.4040003 ,  7.104     ,  9.104     , 10.704     , 11.604     ,\n",
       "       12.104     , 12.454     , 12.704     , 12.854     , 12.854     ,\n",
       "       12.754     , 12.554     , 12.404     , 12.404     , 12.404     ,\n",
       "       12.454     , 12.454     , 12.404     , 12.454     , 12.704     ,\n",
       "       13.004     , 13.054     , 12.704     , 12.154     , 11.454     ,\n",
       "       10.604     ,  9.654     ,  8.954     ,  8.654     ,  8.654     ,\n",
       "        8.654     ,  8.654     ,  8.754     ], dtype=float32)"
      ]
     },
     "execution_count": 78,
     "metadata": {},
     "output_type": "execute_result"
    }
   ],
   "source": [
    "npe = hourly.Variables(0).ValuesAsNumpy()\n",
    "npe"
   ]
  },
  {
   "cell_type": "code",
   "execution_count": 79,
   "id": "12b0e80ab6f0b698",
   "metadata": {
    "ExecuteTime": {
     "end_time": "2024-11-18T18:52:23.974136Z",
     "start_time": "2024-11-18T18:52:23.965704Z"
    }
   },
   "outputs": [
    {
     "data": {
      "text/plain": [
       "array([0.        , 0.        , 0.        , 0.        , 0.        ,\n",
       "       0.        , 0.        , 0.        , 0.        , 0.        ,\n",
       "       0.        , 0.        , 0.        , 0.        , 0.2       ,\n",
       "       0.3       , 0.90000004, 0.5       , 0.7       , 0.5       ,\n",
       "       0.4       , 0.2       , 0.3       , 0.2       , 0.6       ,\n",
       "       0.4       , 0.        , 0.        , 0.        , 0.        ,\n",
       "       0.3       , 0.1       , 0.1       , 0.3       , 0.6       ,\n",
       "       0.9       , 1.        , 1.6       , 1.7       , 2.5       ,\n",
       "       0.9       , 0.6       , 0.        , 0.        , 0.        ,\n",
       "       0.        , 0.        , 0.        , 0.        , 0.        ,\n",
       "       0.        , 0.        , 0.        , 0.        , 0.        ,\n",
       "       0.        , 0.        , 0.        , 0.        , 0.        ,\n",
       "       0.        , 0.        , 0.        , 0.        , 0.        ,\n",
       "       0.        , 0.        , 0.        , 0.        , 0.        ,\n",
       "       0.        , 0.        , 0.        , 0.        , 0.        ,\n",
       "       0.        , 0.        , 0.        , 0.        , 0.        ,\n",
       "       0.        , 0.        , 0.        , 0.        , 0.        ,\n",
       "       0.        , 0.        , 0.        , 0.        , 0.        ,\n",
       "       0.        , 0.        , 0.        , 0.        , 0.        ,\n",
       "       0.        , 0.        , 0.        , 0.        , 0.        ,\n",
       "       0.        , 0.        , 0.        , 0.        , 0.        ,\n",
       "       0.        , 0.        , 0.        , 0.        , 0.        ,\n",
       "       0.        , 0.        , 0.        , 0.        , 0.        ,\n",
       "       0.        , 0.        , 0.        , 0.        , 0.        ,\n",
       "       0.        , 0.        , 0.        , 0.        , 0.        ,\n",
       "       0.        , 0.        , 0.        , 0.        , 0.        ,\n",
       "       0.2       , 0.2       , 0.2       , 0.9       , 0.9       ,\n",
       "       0.9       , 0.1       , 0.1       , 0.1       , 0.        ,\n",
       "       0.        , 0.        , 0.        , 0.        , 0.        ,\n",
       "       0.        , 0.        , 0.        , 0.        , 0.        ,\n",
       "       0.        , 0.1       , 0.1       , 0.1       , 0.2       ,\n",
       "       0.2       , 0.2       , 1.3       , 1.3       , 1.3       ,\n",
       "       1.4       , 1.4       , 1.4       , 1.4       , 1.4       ,\n",
       "       1.4       , 1.6       , 1.6       ], dtype=float32)"
      ]
     },
     "execution_count": 79,
     "metadata": {},
     "output_type": "execute_result"
    }
   ],
   "source": [
    "hourly.Variables(1).ValuesAsNumpy()"
   ]
  },
  {
   "cell_type": "code",
   "execution_count": 83,
   "id": "6e6c7531f969485b",
   "metadata": {
    "ExecuteTime": {
     "end_time": "2024-11-18T22:20:33.598015Z",
     "start_time": "2024-11-18T22:20:33.583288Z"
    }
   },
   "outputs": [
    {
     "name": "stdout",
     "output_type": "stream",
     "text": [
      "['GetRootAs', 'GetRootAsVariablesWithTime', 'Init', 'Interval', 'Time', 'TimeEnd', 'Variables', 'VariablesIsNone', 'VariablesLength', '__class__', '__delattr__', '__dir__', '__doc__', '__eq__', '__format__', '__ge__', '__getattribute__', '__getstate__', '__gt__', '__hash__', '__init__', '__init_subclass__', '__le__', '__lt__', '__module__', '__ne__', '__new__', '__reduce__', '__reduce_ex__', '__repr__', '__setattr__', '__sizeof__', '__slots__', '__str__', '__subclasshook__', '_tab']\n"
     ]
    }
   ],
   "source": [
    "print(dir(hourly))"
   ]
  },
  {
   "cell_type": "code",
   "execution_count": 40,
   "id": "6d9e283aa6691d09",
   "metadata": {
    "ExecuteTime": {
     "end_time": "2024-11-18T17:54:16.735068Z",
     "start_time": "2024-11-18T17:54:16.728426Z"
    }
   },
   "outputs": [
    {
     "name": "stdout",
     "output_type": "stream",
     "text": [
      "['Current', 'Daily', 'Elevation', 'GenerationTimeMilliseconds', 'GetRootAs', 'GetRootAsWeatherApiResponse', 'Hourly', 'Init', 'Latitude', 'LocationId', 'Longitude', 'Minutely15', 'Model', 'SixHourly', 'Timezone', 'TimezoneAbbreviation', 'UtcOffsetSeconds', '__class__', '__delattr__', '__dir__', '__doc__', '__eq__', '__format__', '__ge__', '__getattribute__', '__getstate__', '__gt__', '__hash__', '__init__', '__init_subclass__', '__le__', '__lt__', '__module__', '__ne__', '__new__', '__reduce__', '__reduce_ex__', '__repr__', '__setattr__', '__sizeof__', '__slots__', '__str__', '__subclasshook__', '_tab']\n"
     ]
    }
   ],
   "source": [
    "print(dir(dd))"
   ]
  },
  {
   "cell_type": "code",
   "execution_count": 86,
   "id": "3e704fdf6b0984d7",
   "metadata": {
    "ExecuteTime": {
     "end_time": "2024-11-18T22:30:23.609110Z",
     "start_time": "2024-11-18T22:30:23.600346Z"
    }
   },
   "outputs": [
    {
     "data": {
      "text/plain": [
       "2"
      ]
     },
     "execution_count": 86,
     "metadata": {},
     "output_type": "execute_result"
    }
   ],
   "source": [
    "hourly.VariablesLength()"
   ]
  },
  {
   "cell_type": "code",
   "execution_count": 81,
   "id": "3d56e5d8d5d8fd20",
   "metadata": {
    "ExecuteTime": {
     "end_time": "2024-11-18T19:20:03.501704Z",
     "start_time": "2024-11-18T19:20:03.490050Z"
    }
   },
   "outputs": [
    {
     "data": {
      "text/plain": [
       "Timestamp('2024-11-18 00:00:00+0000', tz='UTC')"
      ]
     },
     "execution_count": 81,
     "metadata": {},
     "output_type": "execute_result"
    }
   ],
   "source": [
    "pd.to_datetime(hourly.Time(), unit = \"s\", utc = True)"
   ]
  },
  {
   "cell_type": "code",
   "execution_count": 91,
   "id": "644475a414bb4390",
   "metadata": {
    "ExecuteTime": {
     "end_time": "2024-11-18T22:33:10.132483Z",
     "start_time": "2024-11-18T22:33:10.126661Z"
    }
   },
   "outputs": [
    {
     "data": {
      "text/plain": [
       "0"
      ]
     },
     "execution_count": 91,
     "metadata": {},
     "output_type": "execute_result"
    }
   ],
   "source": [
    "e =range(2)\n",
    "e[0]"
   ]
  },
  {
   "cell_type": "code",
   "execution_count": 35,
   "id": "f7be7ea71ed3eff1",
   "metadata": {
    "ExecuteTime": {
     "end_time": "2024-11-18T17:50:34.924051Z",
     "start_time": "2024-11-18T17:50:34.914278Z"
    }
   },
   "outputs": [
    {
     "name": "stdout",
     "output_type": "stream",
     "text": [
      "                         date  temperature_2m\n",
      "0   2024-11-18 00:00:00+00:00          7.8195\n",
      "1   2024-11-18 01:00:00+00:00          8.0695\n",
      "2   2024-11-18 02:00:00+00:00          8.2695\n",
      "3   2024-11-18 03:00:00+00:00          7.6695\n",
      "4   2024-11-18 04:00:00+00:00          7.5195\n",
      "..                        ...             ...\n",
      "163 2024-11-24 19:00:00+00:00          8.6540\n",
      "164 2024-11-24 20:00:00+00:00          8.6540\n",
      "165 2024-11-24 21:00:00+00:00          8.6540\n",
      "166 2024-11-24 22:00:00+00:00          8.6540\n",
      "167 2024-11-24 23:00:00+00:00          8.7540\n",
      "\n",
      "[168 rows x 2 columns]\n"
     ]
    }
   ],
   "source": [
    "hourly = dd.Hourly()\n",
    "hourly_temperature_2m = hourly.Variables(0).ValuesAsNumpy()\n",
    "\n",
    "hourly_data = {\"date\": pd.date_range(\n",
    "\tstart = pd.to_datetime(hourly.Time(), unit = \"s\", utc = True),\n",
    "\tend = pd.to_datetime(hourly.TimeEnd(), unit = \"s\", utc = True),\n",
    "\tfreq = pd.Timedelta(seconds = hourly.Interval()),\n",
    "\tinclusive = \"left\"\n",
    ")}\n",
    "hourly_data[\"temperature_2m\"] = hourly_temperature_2m\n",
    "\n",
    "hourly_dataframe = pd.DataFrame(data = hourly_data)\n",
    "print(hourly_dataframe)"
   ]
  },
  {
   "cell_type": "code",
   "execution_count": 37,
   "id": "53a791e59cb064a0",
   "metadata": {
    "ExecuteTime": {
     "end_time": "2024-11-18T17:51:11.167675Z",
     "start_time": "2024-11-18T17:51:11.158560Z"
    }
   },
   "outputs": [
    {
     "data": {
      "text/plain": [
       "array([ 7.8195    ,  8.0695    ,  8.2695    ,  7.6695    ,  7.5195    ,\n",
       "        7.8694997 ,  8.2195    ,  8.169499  ,  8.419499  ,  9.0195    ,\n",
       "        9.419499  , 10.3695    , 10.6195    , 11.2195    , 11.2195    ,\n",
       "       10.919499  , 10.8195    , 10.8195    , 10.8695    , 11.0695    ,\n",
       "       11.169499  , 11.2195    , 11.2695    , 11.2695    , 11.2195    ,\n",
       "       11.0695    , 11.169499  , 11.3695    , 11.5195    , 11.419499  ,\n",
       "       11.419499  , 11.5695    , 11.669499  , 11.9695    , 12.0695    ,\n",
       "       12.3695    , 12.4695    , 12.1195    , 11.5695    , 10.4695    ,\n",
       "        9.3195    ,  8.0695    ,  7.4694996 ,  7.1194997 ,  6.5695    ,\n",
       "        6.4195    ,  5.7695    ,  4.9694996 ,  4.2695    ,  3.5695    ,\n",
       "        2.9195    ,  2.4695    ,  2.2195    ,  1.8195    ,  1.5695    ,\n",
       "        1.3195    ,  1.3695    ,  2.5195    ,  4.0695    ,  5.3195    ,\n",
       "        6.2194996 ,  6.7695    ,  7.0695    ,  6.8195    ,  5.9040003 ,\n",
       "        4.954     ,  4.454     ,  4.1540003 ,  3.854     ,  3.5540001 ,\n",
       "        3.3040001 ,  3.104     ,  2.954     ,  2.7540002 ,  2.5540001 ,\n",
       "        2.454     ,  2.3040001 ,  2.204     ,  1.9039999 ,  1.754     ,\n",
       "        1.754     ,  2.2540002 ,  3.154     ,  4.254     ,  5.1540003 ,\n",
       "        5.604     ,  5.604     ,  5.304     ,  4.304     ,  3.2540002 ,\n",
       "        2.404     ,  1.754     ,  1.254     ,  0.90400004,  0.704     ,\n",
       "        0.65400004,  0.604     ,  0.604     ,  0.604     ,  0.604     ,\n",
       "        0.604     ,  0.604     ,  0.65400004,  0.75399995,  0.90400004,\n",
       "        1.4039999 ,  2.454     ,  3.8040001 ,  4.9040003 ,  5.6540003 ,\n",
       "        6.1540003 ,  6.204     ,  5.604     ,  4.554     ,  3.604     ,\n",
       "        2.954     ,  2.404     ,  2.004     ,  1.804     ,  1.704     ,\n",
       "        1.604     ,  1.4039999 ,  1.1539999 ,  0.90400004,  0.65400004,\n",
       "        0.454     ,  0.404     ,  0.504     ,  0.75399995,  1.104     ,\n",
       "        1.704     ,  2.454     ,  2.954     ,  3.604     ,  4.354     ,\n",
       "        5.4040003 ,  7.104     ,  9.104     , 10.704     , 11.604     ,\n",
       "       12.104     , 12.454     , 12.704     , 12.854     , 12.854     ,\n",
       "       12.754     , 12.554     , 12.404     , 12.404     , 12.404     ,\n",
       "       12.454     , 12.454     , 12.404     , 12.454     , 12.704     ,\n",
       "       13.004     , 13.054     , 12.704     , 12.154     , 11.454     ,\n",
       "       10.604     ,  9.654     ,  8.954     ,  8.654     ,  8.654     ,\n",
       "        8.654     ,  8.654     ,  8.754     ], dtype=float32)"
      ]
     },
     "execution_count": 37,
     "metadata": {},
     "output_type": "execute_result"
    }
   ],
   "source": [
    "hourly_temperature_2m = hourly.Variables(0).ValuesAsNumpy()\n",
    "hourly_temperature_2m"
   ]
  },
  {
   "cell_type": "code",
   "execution_count": null,
   "id": "ab704c66e18ee9e4",
   "metadata": {},
   "outputs": [],
   "source": []
  },
  {
   "cell_type": "code",
   "execution_count": 95,
   "id": "2083dcff3861be1d",
   "metadata": {
    "ExecuteTime": {
     "end_time": "2024-11-18T22:48:12.942997Z",
     "start_time": "2024-11-18T22:48:12.286461Z"
    }
   },
   "outputs": [
    {
     "name": "stdout",
     "output_type": "stream",
     "text": [
      "Coordinates 48.86000061035156°N 2.3399996757507324°E\n",
      "Elevation 43.0 m asl\n",
      "Timezone None None\n",
      "Timezone difference to GMT+0 0 s\n",
      "                         date  temperature_2m\n",
      "0   2024-11-18 00:00:00+00:00          7.8195\n",
      "1   2024-11-18 01:00:00+00:00          8.0695\n",
      "2   2024-11-18 02:00:00+00:00          8.2695\n",
      "3   2024-11-18 03:00:00+00:00          7.6695\n",
      "4   2024-11-18 04:00:00+00:00          7.5195\n",
      "..                        ...             ...\n",
      "163 2024-11-24 19:00:00+00:00          8.6540\n",
      "164 2024-11-24 20:00:00+00:00          8.6540\n",
      "165 2024-11-24 21:00:00+00:00          8.6540\n",
      "166 2024-11-24 22:00:00+00:00          8.6540\n",
      "167 2024-11-24 23:00:00+00:00          8.7540\n",
      "\n",
      "[168 rows x 2 columns]\n"
     ]
    }
   ],
   "source": [
    "import openmeteo_requests\n",
    "\n",
    "import requests_cache\n",
    "import pandas as pd\n",
    "from retry_requests import retry\n",
    "\n",
    "# Setup the Open-Meteo API client with cache and retry on error\n",
    "cache_session = requests_cache.CachedSession('.cache', expire_after = 3600)\n",
    "retry_session = retry(cache_session, retries = 5, backoff_factor = 0.2)\n",
    "openmeteo = openmeteo_requests.Client(session = retry_session)\n",
    "\n",
    "# Make sure all required weather variables are listed here\n",
    "# The order of variables in hourly or daily is important to assign them correctly below\n",
    "url = \"https://api.open-meteo.com/v1/forecast\"\n",
    "params = {\n",
    "\t\"latitude\": 48.8534,\n",
    "\t\"longitude\": 2.3488,\n",
    "\t\"hourly\": [\"temperature_2m\", \"rain\"]\n",
    "}\n",
    "responses = openmeteo.weather_api(url, params=params)\n",
    "\n",
    "# Process first location. Add a for-loop for multiple locations or weather models\n",
    "response = responses[0]\n",
    "print(f\"Coordinates {response.Latitude()}°N {response.Longitude()}°E\")\n",
    "print(f\"Elevation {response.Elevation()} m asl\")\n",
    "print(f\"Timezone {response.Timezone()} {response.TimezoneAbbreviation()}\")\n",
    "print(f\"Timezone difference to GMT+0 {response.UtcOffsetSeconds()} s\")\n",
    "\n",
    "# Process hourly data. The order of variables needs to be the same as requested.\n",
    "hourly = response.Hourly()\n",
    "hourly_temperature_2m = hourly.Variables(0).ValuesAsNumpy()\n",
    "\n",
    "hourly_data = {\"date\": pd.date_range(\n",
    "\tstart = pd.to_datetime(hourly.Time(), unit = \"s\", utc = True),\n",
    "\tend = pd.to_datetime(hourly.TimeEnd(), unit = \"s\", utc = True),\n",
    "\tfreq = pd.Timedelta(seconds = hourly.Interval()),\n",
    "\tinclusive = \"left\"\n",
    ")}\n",
    "hourly_data[\"temperature_2m\"] = hourly_temperature_2m\n",
    "\n",
    "hourly_dataframe = pd.DataFrame(data = hourly_data)\n",
    "print(hourly_dataframe)"
   ]
  },
  {
   "cell_type": "code",
   "execution_count": 103,
   "id": "36b9d7e1316cf966",
   "metadata": {
    "ExecuteTime": {
     "end_time": "2024-11-18T22:50:40.459984Z",
     "start_time": "2024-11-18T22:50:40.451458Z"
    }
   },
   "outputs": [
    {
     "data": {
      "text/plain": [
       "(168,)"
      ]
     },
     "execution_count": 103,
     "metadata": {},
     "output_type": "execute_result"
    }
   ],
   "source": [
    "hourly_data[\"date\"].shape"
   ]
  },
  {
   "cell_type": "code",
   "execution_count": 94,
   "id": "403f79909500ef94",
   "metadata": {
    "ExecuteTime": {
     "end_time": "2024-11-18T22:45:07.151757Z",
     "start_time": "2024-11-18T22:45:07.143619Z"
    }
   },
   "outputs": [
    {
     "ename": "SyntaxError",
     "evalue": "'return' outside function (1481768534.py, line 2)",
     "output_type": "error",
     "traceback": [
      "\u001B[1;36m  Cell \u001B[1;32mIn[94], line 2\u001B[1;36m\u001B[0m\n\u001B[1;33m    return print(i)\u001B[0m\n\u001B[1;37m    ^\u001B[0m\n\u001B[1;31mSyntaxError\u001B[0m\u001B[1;31m:\u001B[0m 'return' outside function\n"
     ]
    }
   ],
   "source": [
    "for i in range(2):\n",
    "    "
   ]
  },
  {
   "cell_type": "code",
   "execution_count": 125,
   "id": "f4104e3dfabc59c0",
   "metadata": {
    "ExecuteTime": {
     "end_time": "2024-11-18T23:18:29.604252Z",
     "start_time": "2024-11-18T23:18:29.584103Z"
    }
   },
   "outputs": [
    {
     "name": "stdout",
     "output_type": "stream",
     "text": [
      "DatetimeIndex(['2023-10-01 00:00:00', '2023-10-01 00:00:01',\n",
      "               '2023-10-01 00:00:02', '2023-10-01 00:00:03',\n",
      "               '2023-10-01 00:00:04'],\n",
      "              dtype='datetime64[ns]', freq='s')\n"
     ]
    }
   ],
   "source": [
    "# Définir les dates de début et de fin\n",
    "start_date = pd.to_datetime(\"2023-10-01 00:00:00\")\n",
    "end_date = pd.to_datetime(\"2023-10-01 00:00:05\")\n",
    "\n",
    "# Générer la plage de dates\n",
    "e = pd.date_range(start=start_date, end=end_date, freq=pd.Timedelta(seconds=1), inclusive=\"left\")\n",
    "\n",
    "print(e)"
   ]
  },
  {
   "cell_type": "code",
   "id": "4a4bd2cc7f71a2bd",
   "metadata": {
    "ExecuteTime": {
     "end_time": "2024-11-28T00:29:11.300421Z",
     "start_time": "2024-11-28T00:29:11.289035Z"
    }
   },
   "source": [
    "import requests\n",
    "from decouple import config\n",
    "import requests_cache\n",
    "from retry_requests import retry\n",
    "import openmeteo_requests\n",
    "import pandas as pd\n",
    "\n",
    "\n",
    "WEATHER_URL = config(\"URl_WEATHER\", default = \"https://api.open-meteo.com/v1/forecast\")\n",
    "url = f\"{WEATHER_URL}\"\n",
    "\n",
    "cache_session = requests_cache.CachedSession('.cache', expire_after = 3600)\n",
    "retry_session = retry(cache_session, retries = 5, backoff_factor = 0.2)\n",
    "\n",
    "openmeteo = openmeteo_requests.Client(session = retry_session)\n",
    "def get_weather_data(latitude: float, longitude: float, opmeteo = openmeteo):\n",
    "    hourly_params = [\"temperature_2m\", \"rain\"]\n",
    "    params = {\n",
    "        \"latitude\": latitude,\n",
    "        \"longitude\": longitude,\n",
    "        \"hourly\": \",\".join(hourly_params)\n",
    "    }\n",
    "    try:\n",
    "        responses = opmeteo.weather_api(url, params =params)\n",
    "    except requests.exceptions.RequestException as e:\n",
    "        return {\"erreur\": str(e)}\n",
    "\n",
    "    data_object = responses[0]\n",
    "    hourly_object = data_object.Hourly()\n",
    "    data = {}\n",
    "\n",
    "    data[\"time\"] = pd.date_range(\n",
    "        start= pd.to_datetime(hourly_object.Time(), unit = \"s\", utc = True),\n",
    "        end= pd.to_datetime(hourly_object.TimeEnd(), unit = \"s\", utc = True),\n",
    "        freq = pd.Timedelta(seconds= hourly_object.Interval()), inclusive = \"left\")\n",
    "    for i in range(hourly_object.VariablesLength()):\n",
    "        data[hourly_params[i]] = hourly_object.Variables(i).ValuesAsNumpy()\n",
    "\n",
    "    return data"
   ],
   "outputs": [],
   "execution_count": 43
  },
  {
   "cell_type": "code",
   "id": "80f94fd2c8167c31",
   "metadata": {
    "ExecuteTime": {
     "end_time": "2024-11-28T00:29:17.124483Z",
     "start_time": "2024-11-28T00:29:17.106614Z"
    }
   },
   "source": [
    "data = get_weather_data(48.8534, 2.3488)\n",
    "data"
   ],
   "outputs": [
    {
     "data": {
      "text/plain": [
       "{'time': DatetimeIndex(['2024-11-28 00:00:00+00:00', '2024-11-28 01:00:00+00:00',\n",
       "                '2024-11-28 02:00:00+00:00', '2024-11-28 03:00:00+00:00',\n",
       "                '2024-11-28 04:00:00+00:00', '2024-11-28 05:00:00+00:00',\n",
       "                '2024-11-28 06:00:00+00:00', '2024-11-28 07:00:00+00:00',\n",
       "                '2024-11-28 08:00:00+00:00', '2024-11-28 09:00:00+00:00',\n",
       "                ...\n",
       "                '2024-12-04 14:00:00+00:00', '2024-12-04 15:00:00+00:00',\n",
       "                '2024-12-04 16:00:00+00:00', '2024-12-04 17:00:00+00:00',\n",
       "                '2024-12-04 18:00:00+00:00', '2024-12-04 19:00:00+00:00',\n",
       "                '2024-12-04 20:00:00+00:00', '2024-12-04 21:00:00+00:00',\n",
       "                '2024-12-04 22:00:00+00:00', '2024-12-04 23:00:00+00:00'],\n",
       "               dtype='datetime64[ns, UTC]', length=168, freq='h'),\n",
       " 'temperature_2m': array([ 8.169499 ,  7.4694996,  6.8694997,  6.1695   ,  5.7194996,\n",
       "         5.2695   ,  4.9195   ,  4.6194997,  4.4694996,  5.0195   ,\n",
       "         6.2194996,  7.2695   ,  8.0695   ,  8.5695   ,  8.5695   ,\n",
       "         8.169499 ,  7.1695   ,  6.2194996,  5.6194997,  5.0695   ,\n",
       "         4.6194997,  4.1695   ,  3.7195   ,  3.2695   ,  2.8695   ,\n",
       "         2.5695   ,  2.3195   ,  2.1195   ,  1.9695001,  1.7195001,\n",
       "         1.5695   ,  1.4195   ,  1.4195   ,  2.3195   ,  3.9695   ,\n",
       "         5.5195   ,  6.6194997,  7.3694997,  7.6695   ,  7.2194996,\n",
       "         6.0695   ,  5.0195   ,  4.2194996,  3.6195   ,  3.1695   ,\n",
       "         2.8695   ,  2.404    ,  1.9039999,  1.4039999,  1.254    ,\n",
       "         1.1539999,  0.854    ,  0.954    ,  0.954    ,  0.954    ,\n",
       "         1.054    ,  1.1539999,  1.6539999,  3.5040002,  5.054    ,\n",
       "         6.104    ,  6.854    ,  7.204    ,  7.204    ,  6.604    ,\n",
       "         6.1540003,  5.9040003,  5.804    ,  5.754    ,  5.704    ,\n",
       "         5.604    ,  5.604    ,  5.554    ,  5.604    ,  5.704    ,\n",
       "         5.754    ,  5.754    ,  5.804    ,  5.854    ,  5.954    ,\n",
       "         6.104    ,  6.554    ,  7.504    ,  8.754    ,  9.754    ,\n",
       "        10.354    , 10.704    , 10.804    , 10.604    , 10.154    ,\n",
       "         9.754    ,  9.554    ,  9.454    ,  9.304    ,  9.154    ,\n",
       "         9.004    ,  8.854    ,  8.704    ,  8.504    ,  8.354    ,\n",
       "         8.204    ,  8.104    ,  8.104    ,  8.204    ,  8.454    ,\n",
       "         8.804    ,  9.454    , 10.204    , 10.854    , 11.254    ,\n",
       "        11.554    , 11.504    , 10.954    , 10.104    ,  9.454    ,\n",
       "         7.204    ,  7.004    ,  6.754    ,  6.354    ,  5.954    ,\n",
       "         5.704    ,  5.604    ,  5.6540003,  5.804    ,  6.054    ,\n",
       "         6.4040003,  6.704    ,  6.854    ,  6.9040003,  7.1540003,\n",
       "         7.754    ,  8.554    ,  9.104    ,  9.304    ,  9.254    ,\n",
       "         8.954    ,  8.204    ,  7.254    ,  6.354    ,  5.754    ,\n",
       "         5.304    ,  4.854    ,  4.354    ,  3.854    ,  3.5040002,\n",
       "         3.354    ,  3.404    ,  3.5040002,  3.7540002,  4.054    ,\n",
       "         4.254    ,  4.204    ,  4.054    ,  4.104    ,  4.554    ,\n",
       "         5.204    ,  5.754    ,  6.204    ,  6.554    ,  6.6540003,\n",
       "         6.454    ,  6.004    ,  5.504    ,  4.954    ,  4.4040003,\n",
       "         3.954    ,  3.7540002,  3.704    ], dtype=float32),\n",
       " 'rain': array([0. , 0. , 0. , 0. , 0. , 0. , 0. , 0. , 0. , 0. , 0. , 0. , 0. ,\n",
       "        0. , 0. , 0. , 0. , 0. , 0. , 0. , 0. , 0. , 0. , 0. , 0. , 0. ,\n",
       "        0. , 0. , 0. , 0. , 0. , 0. , 0. , 0. , 0. , 0. , 0. , 0. , 0. ,\n",
       "        0. , 0. , 0. , 0. , 0. , 0. , 0. , 0. , 0. , 0. , 0. , 0. , 0. ,\n",
       "        0. , 0. , 0. , 0. , 0. , 0. , 0. , 0. , 0. , 0. , 0. , 0. , 0. ,\n",
       "        0. , 0. , 0. , 0. , 0. , 0. , 0. , 0. , 0. , 0. , 0. , 0. , 0. ,\n",
       "        0. , 0. , 0. , 0. , 0. , 0. , 0. , 0. , 0. , 0. , 0. , 0. , 0. ,\n",
       "        0. , 0. , 0. , 0. , 0. , 0. , 0. , 0. , 0. , 0. , 0. , 0. , 0.3,\n",
       "        0.3, 0.3, 0.4, 0.4, 0.4, 0. , 0. , 0. , 0. , 0. , 0. , 0. , 0. ,\n",
       "        0. , 0. , 0. , 0. , 0. , 0. , 0. , 0. , 0. , 0. , 0. , 0. , 0. ,\n",
       "        0. , 0. , 0. , 0. , 0. , 0. , 0. , 0. , 0. , 0. , 0. , 0. , 0. ,\n",
       "        0. , 0. , 0. , 0. , 0. , 0. , 0. , 0. , 0. , 0. , 0. , 0. , 0. ,\n",
       "        0. , 0. , 0. , 0. , 0. , 0. , 0. , 0. , 0. , 0. , 0. , 0. ],\n",
       "       dtype=float32)}"
      ]
     },
     "execution_count": 45,
     "metadata": {},
     "output_type": "execute_result"
    }
   ],
   "execution_count": 45
  },
  {
   "cell_type": "code",
   "id": "f3facd7d75e29a0d",
   "metadata": {
    "ExecuteTime": {
     "end_time": "2024-11-18T23:42:32.050723Z",
     "start_time": "2024-11-18T23:42:32.043221Z"
    }
   },
   "source": [
    "data['time'].shape"
   ],
   "outputs": [
    {
     "data": {
      "text/plain": [
       "(168,)"
      ]
     },
     "execution_count": 134,
     "metadata": {},
     "output_type": "execute_result"
    }
   ],
   "execution_count": 134
  },
  {
   "cell_type": "code",
   "id": "f0d3aa3cddeb5118",
   "metadata": {
    "ExecuteTime": {
     "end_time": "2024-11-19T18:53:04.694854Z",
     "start_time": "2024-11-19T18:53:04.649846Z"
    }
   },
   "source": "WEATHER_URL = config(\"URl_WEATHER\")",
   "outputs": [
    {
     "ename": "UndefinedValueError",
     "evalue": "URl_WEATHER not found. Declare it as envvar or define a default value.",
     "output_type": "error",
     "traceback": [
      "\u001B[1;31m---------------------------------------------------------------------------\u001B[0m",
      "\u001B[1;31mUndefinedValueError\u001B[0m                       Traceback (most recent call last)",
      "Cell \u001B[1;32mIn[8], line 1\u001B[0m\n\u001B[1;32m----> 1\u001B[0m WEATHER_URL \u001B[38;5;241m=\u001B[39m \u001B[43mconfig\u001B[49m\u001B[43m(\u001B[49m\u001B[38;5;124;43m\"\u001B[39;49m\u001B[38;5;124;43mURl_WEATHER\u001B[39;49m\u001B[38;5;124;43m\"\u001B[39;49m\u001B[43m)\u001B[49m\n",
      "File \u001B[1;32mC:\\LEARNING_DATA_INGENEERING\\env_cours_data_ing\\env_cours_ingeneer\\Lib\\site-packages\\decouple.py:248\u001B[0m, in \u001B[0;36mAutoConfig.__call__\u001B[1;34m(self, *args, **kwargs)\u001B[0m\n\u001B[0;32m    245\u001B[0m \u001B[38;5;28;01mif\u001B[39;00m \u001B[38;5;129;01mnot\u001B[39;00m \u001B[38;5;28mself\u001B[39m\u001B[38;5;241m.\u001B[39mconfig:\n\u001B[0;32m    246\u001B[0m     \u001B[38;5;28mself\u001B[39m\u001B[38;5;241m.\u001B[39m_load(\u001B[38;5;28mself\u001B[39m\u001B[38;5;241m.\u001B[39msearch_path \u001B[38;5;129;01mor\u001B[39;00m \u001B[38;5;28mself\u001B[39m\u001B[38;5;241m.\u001B[39m_caller_path())\n\u001B[1;32m--> 248\u001B[0m \u001B[38;5;28;01mreturn\u001B[39;00m \u001B[38;5;28;43mself\u001B[39;49m\u001B[38;5;241;43m.\u001B[39;49m\u001B[43mconfig\u001B[49m\u001B[43m(\u001B[49m\u001B[38;5;241;43m*\u001B[39;49m\u001B[43margs\u001B[49m\u001B[43m,\u001B[49m\u001B[43m \u001B[49m\u001B[38;5;241;43m*\u001B[39;49m\u001B[38;5;241;43m*\u001B[39;49m\u001B[43mkwargs\u001B[49m\u001B[43m)\u001B[49m\n",
      "File \u001B[1;32mC:\\LEARNING_DATA_INGENEERING\\env_cours_data_ing\\env_cours_ingeneer\\Lib\\site-packages\\decouple.py:107\u001B[0m, in \u001B[0;36mConfig.__call__\u001B[1;34m(self, *args, **kwargs)\u001B[0m\n\u001B[0;32m    103\u001B[0m \u001B[38;5;28;01mdef\u001B[39;00m \u001B[38;5;21m__call__\u001B[39m(\u001B[38;5;28mself\u001B[39m, \u001B[38;5;241m*\u001B[39margs, \u001B[38;5;241m*\u001B[39m\u001B[38;5;241m*\u001B[39mkwargs):\n\u001B[0;32m    104\u001B[0m \u001B[38;5;250m    \u001B[39m\u001B[38;5;124;03m\"\"\"\u001B[39;00m\n\u001B[0;32m    105\u001B[0m \u001B[38;5;124;03m    Convenient shortcut to get.\u001B[39;00m\n\u001B[0;32m    106\u001B[0m \u001B[38;5;124;03m    \"\"\"\u001B[39;00m\n\u001B[1;32m--> 107\u001B[0m     \u001B[38;5;28;01mreturn\u001B[39;00m \u001B[38;5;28;43mself\u001B[39;49m\u001B[38;5;241;43m.\u001B[39;49m\u001B[43mget\u001B[49m\u001B[43m(\u001B[49m\u001B[38;5;241;43m*\u001B[39;49m\u001B[43margs\u001B[49m\u001B[43m,\u001B[49m\u001B[43m \u001B[49m\u001B[38;5;241;43m*\u001B[39;49m\u001B[38;5;241;43m*\u001B[39;49m\u001B[43mkwargs\u001B[49m\u001B[43m)\u001B[49m\n",
      "File \u001B[1;32mC:\\LEARNING_DATA_INGENEERING\\env_cours_data_ing\\env_cours_ingeneer\\Lib\\site-packages\\decouple.py:92\u001B[0m, in \u001B[0;36mConfig.get\u001B[1;34m(self, option, default, cast)\u001B[0m\n\u001B[0;32m     90\u001B[0m \u001B[38;5;28;01melse\u001B[39;00m:\n\u001B[0;32m     91\u001B[0m     \u001B[38;5;28;01mif\u001B[39;00m \u001B[38;5;28misinstance\u001B[39m(default, Undefined):\n\u001B[1;32m---> 92\u001B[0m         \u001B[38;5;28;01mraise\u001B[39;00m UndefinedValueError(\u001B[38;5;124m'\u001B[39m\u001B[38;5;132;01m{}\u001B[39;00m\u001B[38;5;124m not found. Declare it as envvar or define a default value.\u001B[39m\u001B[38;5;124m'\u001B[39m\u001B[38;5;241m.\u001B[39mformat(option))\n\u001B[0;32m     94\u001B[0m     value \u001B[38;5;241m=\u001B[39m default\n\u001B[0;32m     96\u001B[0m \u001B[38;5;28;01mif\u001B[39;00m \u001B[38;5;28misinstance\u001B[39m(cast, Undefined):\n",
      "\u001B[1;31mUndefinedValueError\u001B[0m: URl_WEATHER not found. Declare it as envvar or define a default value."
     ]
    }
   ],
   "execution_count": 8
  },
  {
   "metadata": {
    "ExecuteTime": {
     "end_time": "2024-11-23T15:31:11.308502Z",
     "start_time": "2024-11-23T15:31:11.019091Z"
    }
   },
   "cell_type": "code",
   "source": [
    "from pydantic import BaseModel\n",
    "from typing import List, Optional\n",
    "\n",
    "\n",
    "class d(BaseModel):\n",
    "    t: List[str]\n",
    "    o: Optional[list[int]] = []\n",
    "    p: str\n",
    "\n",
    "\n",
    "class oglo(BaseModel):\n",
    "    key: d\n",
    "\n",
    "\n",
    "d = [\"cdcdc\", \"dcdcd\"]\n",
    "ds = [2, 5, 7]\n",
    "s = \"ddss\"\n",
    "qs = d(t=d, o=ds, p=s)"
   ],
   "id": "f9796673996b1c55",
   "outputs": [
    {
     "ename": "TypeError",
     "evalue": "'list' object is not callable",
     "output_type": "error",
     "traceback": [
      "\u001B[1;31m---------------------------------------------------------------------------\u001B[0m",
      "\u001B[1;31mTypeError\u001B[0m                                 Traceback (most recent call last)",
      "Cell \u001B[1;32mIn[4], line 18\u001B[0m\n\u001B[0;32m     16\u001B[0m ds \u001B[38;5;241m=\u001B[39m [\u001B[38;5;241m2\u001B[39m, \u001B[38;5;241m5\u001B[39m, \u001B[38;5;241m7\u001B[39m]\n\u001B[0;32m     17\u001B[0m s \u001B[38;5;241m=\u001B[39m \u001B[38;5;124m\"\u001B[39m\u001B[38;5;124mddss\u001B[39m\u001B[38;5;124m\"\u001B[39m\n\u001B[1;32m---> 18\u001B[0m qs \u001B[38;5;241m=\u001B[39m \u001B[43md\u001B[49m\u001B[43m(\u001B[49m\u001B[43mt\u001B[49m\u001B[38;5;241;43m=\u001B[39;49m\u001B[43md\u001B[49m\u001B[43m,\u001B[49m\u001B[43m \u001B[49m\u001B[43mo\u001B[49m\u001B[38;5;241;43m=\u001B[39;49m\u001B[43mds\u001B[49m\u001B[43m,\u001B[49m\u001B[43m \u001B[49m\u001B[43mp\u001B[49m\u001B[38;5;241;43m=\u001B[39;49m\u001B[43ms\u001B[49m\u001B[43m)\u001B[49m\n",
      "\u001B[1;31mTypeError\u001B[0m: 'list' object is not callable"
     ]
    }
   ],
   "execution_count": 4
  },
  {
   "metadata": {
    "ExecuteTime": {
     "end_time": "2024-11-25T20:11:49.663472Z",
     "start_time": "2024-11-25T20:11:49.653011Z"
    }
   },
   "cell_type": "code",
   "source": [
    "from pydantic import BaseModel\n",
    "from typing import List, Optional\n",
    "\n",
    "class DataModel(BaseModel):\n",
    "    t: List[str]\n",
    "    o: Optional[List[int]] = None\n",
    "    p: str\n",
    "\n",
    "class OgloModel(BaseModel):\n",
    "    key: DataModel\n",
    "\n",
    "# Exemple d'utilisation\n",
    "t_list = [\"cdcdc\", \"dcdcd\"]\n",
    "o_list = [2, 5, 7]\n",
    "p_str = \"ddss\"\n",
    "\n",
    "data_instance = DataModel(t=t_list, o=o_list, p=p_str)\n",
    "oglo_instance = OgloModel(key=data_instance)\n",
    "\n",
    "print(oglo_instance.dict())\n"
   ],
   "id": "fb5e508acd45389b",
   "outputs": [
    {
     "name": "stdout",
     "output_type": "stream",
     "text": [
      "{'key': {'t': ['cdcdc', 'dcdcd'], 'o': [2, 5, 7], 'p': 'ddss'}}\n"
     ]
    }
   ],
   "execution_count": 25
  },
  {
   "metadata": {
    "ExecuteTime": {
     "end_time": "2024-11-20T02:03:56.643549Z",
     "start_time": "2024-11-20T02:03:56.624281Z"
    }
   },
   "cell_type": "code",
   "source": "type(oglo_instance[\"key\"])",
   "id": "9c5aa101763967e5",
   "outputs": [
    {
     "ename": "TypeError",
     "evalue": "'OgloModel' object is not subscriptable",
     "output_type": "error",
     "traceback": [
      "\u001B[1;31m---------------------------------------------------------------------------\u001B[0m",
      "\u001B[1;31mTypeError\u001B[0m                                 Traceback (most recent call last)",
      "Cell \u001B[1;32mIn[14], line 1\u001B[0m\n\u001B[1;32m----> 1\u001B[0m \u001B[38;5;28mtype\u001B[39m(\u001B[43moglo_instance\u001B[49m\u001B[43m[\u001B[49m\u001B[38;5;124;43m\"\u001B[39;49m\u001B[38;5;124;43mkey\u001B[39;49m\u001B[38;5;124;43m\"\u001B[39;49m\u001B[43m]\u001B[49m)\n",
      "\u001B[1;31mTypeError\u001B[0m: 'OgloModel' object is not subscriptable"
     ]
    }
   ],
   "execution_count": 14
  },
  {
   "metadata": {
    "ExecuteTime": {
     "end_time": "2024-11-20T08:23:51.195457Z",
     "start_time": "2024-11-20T08:23:51.188046Z"
    }
   },
   "cell_type": "code",
   "source": [
    "import pandas as pd\n",
    "pd.to_datetime(1732089944, unit='s', utc=True).isoformat()\n"
   ],
   "id": "e91875f32ab0f709",
   "outputs": [
    {
     "data": {
      "text/plain": [
       "'2024-11-20T08:05:44+00:00'"
      ]
     },
     "execution_count": 21,
     "metadata": {},
     "output_type": "execute_result"
    }
   ],
   "execution_count": 21
  },
  {
   "metadata": {
    "ExecuteTime": {
     "end_time": "2024-11-20T08:12:35.352554Z",
     "start_time": "2024-11-20T08:12:35.344007Z"
    }
   },
   "cell_type": "code",
   "source": "dir(f)",
   "id": "7685e57908b5f6ee",
   "outputs": [
    {
     "data": {
      "text/plain": [
       "['__add__',\n",
       " '__array_priority__',\n",
       " '__class__',\n",
       " '__delattr__',\n",
       " '__dict__',\n",
       " '__dir__',\n",
       " '__doc__',\n",
       " '__eq__',\n",
       " '__format__',\n",
       " '__ge__',\n",
       " '__getattribute__',\n",
       " '__getstate__',\n",
       " '__gt__',\n",
       " '__hash__',\n",
       " '__init__',\n",
       " '__init_subclass__',\n",
       " '__le__',\n",
       " '__lt__',\n",
       " '__module__',\n",
       " '__ne__',\n",
       " '__new__',\n",
       " '__pyx_vtable__',\n",
       " '__radd__',\n",
       " '__reduce__',\n",
       " '__reduce_cython__',\n",
       " '__reduce_ex__',\n",
       " '__repr__',\n",
       " '__rsub__',\n",
       " '__setattr__',\n",
       " '__setstate__',\n",
       " '__setstate_cython__',\n",
       " '__sizeof__',\n",
       " '__str__',\n",
       " '__sub__',\n",
       " '__subclasshook__',\n",
       " '__weakref__',\n",
       " '_creso',\n",
       " '_date_repr',\n",
       " '_from_dt64',\n",
       " '_from_value_and_reso',\n",
       " '_repr_base',\n",
       " '_round',\n",
       " '_time_repr',\n",
       " '_value',\n",
       " 'as_unit',\n",
       " 'asm8',\n",
       " 'astimezone',\n",
       " 'ceil',\n",
       " 'combine',\n",
       " 'ctime',\n",
       " 'date',\n",
       " 'day',\n",
       " 'day_name',\n",
       " 'day_of_week',\n",
       " 'day_of_year',\n",
       " 'dayofweek',\n",
       " 'dayofyear',\n",
       " 'days_in_month',\n",
       " 'daysinmonth',\n",
       " 'dst',\n",
       " 'floor',\n",
       " 'fold',\n",
       " 'fromisocalendar',\n",
       " 'fromisoformat',\n",
       " 'fromordinal',\n",
       " 'fromtimestamp',\n",
       " 'hour',\n",
       " 'is_leap_year',\n",
       " 'is_month_end',\n",
       " 'is_month_start',\n",
       " 'is_quarter_end',\n",
       " 'is_quarter_start',\n",
       " 'is_year_end',\n",
       " 'is_year_start',\n",
       " 'isocalendar',\n",
       " 'isoformat',\n",
       " 'isoweekday',\n",
       " 'max',\n",
       " 'microsecond',\n",
       " 'min',\n",
       " 'minute',\n",
       " 'month',\n",
       " 'month_name',\n",
       " 'nanosecond',\n",
       " 'normalize',\n",
       " 'now',\n",
       " 'quarter',\n",
       " 'replace',\n",
       " 'resolution',\n",
       " 'round',\n",
       " 'second',\n",
       " 'strftime',\n",
       " 'strptime',\n",
       " 'time',\n",
       " 'timestamp',\n",
       " 'timetuple',\n",
       " 'timetz',\n",
       " 'to_datetime64',\n",
       " 'to_julian_date',\n",
       " 'to_numpy',\n",
       " 'to_period',\n",
       " 'to_pydatetime',\n",
       " 'today',\n",
       " 'toordinal',\n",
       " 'tz',\n",
       " 'tz_convert',\n",
       " 'tz_localize',\n",
       " 'tzinfo',\n",
       " 'tzname',\n",
       " 'unit',\n",
       " 'utcfromtimestamp',\n",
       " 'utcnow',\n",
       " 'utcoffset',\n",
       " 'utctimetuple',\n",
       " 'value',\n",
       " 'week',\n",
       " 'weekday',\n",
       " 'weekofyear',\n",
       " 'year']"
      ]
     },
     "execution_count": 4,
     "metadata": {},
     "output_type": "execute_result"
    }
   ],
   "execution_count": 4
  },
  {
   "metadata": {
    "ExecuteTime": {
     "end_time": "2024-11-20T08:20:04.176791Z",
     "start_time": "2024-11-20T08:20:04.168259Z"
    }
   },
   "cell_type": "code",
   "source": "pd.date_range(start = pd.to_datetime(1732089944, unit = \"s\", utc = True), end = pd.to_datetime(1732089944, unit = \"s\", utc = True), freq = pd.Timedelta(seconds = 1), inclusive = \"left\").astype(str).to_list()",
   "id": "7c3161f2ba14158d",
   "outputs": [
    {
     "data": {
      "text/plain": [
       "['2024-11-20 08:05:44+00:00']"
      ]
     },
     "execution_count": 15,
     "metadata": {},
     "output_type": "execute_result"
    }
   ],
   "execution_count": 15
  },
  {
   "metadata": {
    "ExecuteTime": {
     "end_time": "2024-11-20T08:19:41.105041Z",
     "start_time": "2024-11-20T08:19:41.096360Z"
    }
   },
   "cell_type": "code",
   "source": "pd.date_range(start = pd.to_datetime(1732089944, unit = \"s\", utc = True), end = pd.to_datetime(1732089944, unit = \"s\", utc = True), freq = pd.Timedelta(seconds = 1), inclusive = \"left\")",
   "id": "22306e24a6f74f3b",
   "outputs": [
    {
     "data": {
      "text/plain": [
       "DatetimeIndex(['2024-11-20 08:05:44+00:00'], dtype='datetime64[ns, UTC]', freq='s')"
      ]
     },
     "execution_count": 13,
     "metadata": {},
     "output_type": "execute_result"
    }
   ],
   "execution_count": 13
  },
  {
   "metadata": {
    "ExecuteTime": {
     "end_time": "2024-11-20T20:31:04.615747Z",
     "start_time": "2024-11-20T20:31:04.611107Z"
    }
   },
   "cell_type": "code",
   "source": [
    "z = {\n",
    "    \"dd\":\"cdc\",\n",
    "    \"cdc\":\"cdcd\"\n",
    "}"
   ],
   "id": "eb632e21dbe3bd78",
   "outputs": [],
   "execution_count": 2
  },
  {
   "metadata": {
    "ExecuteTime": {
     "end_time": "2024-11-27T23:24:14.426359Z",
     "start_time": "2024-11-27T23:24:13.766421Z"
    }
   },
   "cell_type": "code",
   "source": [
    "from decouple import config\n",
    "import requests"
   ],
   "id": "4b0b9bbeaf5727be",
   "outputs": [],
   "execution_count": 6
  },
  {
   "metadata": {
    "ExecuteTime": {
     "end_time": "2024-11-23T15:46:22.736376Z",
     "start_time": "2024-11-23T15:46:22.731719Z"
    }
   },
   "cell_type": "code",
   "source": [
    "z = z\n",
    "print(z)"
   ],
   "id": "872f1e94362283c6",
   "outputs": [
    {
     "name": "stdout",
     "output_type": "stream",
     "text": [
      "dsdsd\n"
     ]
    }
   ],
   "execution_count": 8
  },
  {
   "metadata": {
    "ExecuteTime": {
     "end_time": "2024-11-27T23:24:16.439573Z",
     "start_time": "2024-11-27T23:24:15.499440Z"
    }
   },
   "cell_type": "code",
   "source": [
    "CRYPTO_URL = config(\"URL_CRYPTO\", default=\"https://api.kraken.com/0/public/Depth\")\n",
    "url = f\"{CRYPTO_URL}\"\n",
    "params = {\"pair\": \"BTCEUR\"}\n",
    "headers = {'accept': 'application/json'}\n",
    "payload = {}\n",
    "request_timeout  = 10\n",
    "response = requests.get(url, headers=headers, params=params,\n",
    "                                data=payload, timeout=request_timeout)\n",
    "response.raise_for_status()\n",
    "data = response.json()"
   ],
   "id": "44cad9d251a6babe",
   "outputs": [],
   "execution_count": 7
  },
  {
   "metadata": {
    "ExecuteTime": {
     "end_time": "2024-11-27T23:24:18.333256Z",
     "start_time": "2024-11-27T23:24:18.315814Z"
    }
   },
   "cell_type": "code",
   "source": "data",
   "id": "946389d19251c1d",
   "outputs": [
    {
     "data": {
      "text/plain": [
       "{'error': [],\n",
       " 'result': {'XXBTZEUR': {'asks': [['90718.80000', '5.217', 1732749845],\n",
       "    ['90720.00000', '2.608', 1732749843],\n",
       "    ['90721.20000', '5.216', 1732749843],\n",
       "    ['90726.70000', '5.216', 1732749843],\n",
       "    ['90729.00000', '0.007', 1732749834],\n",
       "    ['90729.80000', '5.216', 1732749845],\n",
       "    ['90732.50000', '0.011', 1732749837],\n",
       "    ['90737.40000', '0.024', 1732749852],\n",
       "    ['90737.90000', '0.017', 1732749834],\n",
       "    ['90742.90000', '0.211', 1732749851],\n",
       "    ['90743.00000', '2.608', 1732749818],\n",
       "    ['90744.10000', '0.022', 1732749846],\n",
       "    ['90746.50000', '0.086', 1732749847],\n",
       "    ['90746.60000', '0.062', 1732749818],\n",
       "    ['90748.00000', '0.593', 1732749834],\n",
       "    ['90750.00000', '0.040', 1732749851],\n",
       "    ['90750.10000', '0.250', 1732749835],\n",
       "    ['90754.10000', '0.050', 1732749843],\n",
       "    ['90756.10000', '0.183', 1732749851],\n",
       "    ['90756.60000', '2.607', 1732749834],\n",
       "    ['90757.80000', '0.042', 1732749848],\n",
       "    ['90760.30000', '1.813', 1732749812],\n",
       "    ['90760.40000', '0.011', 1732749809],\n",
       "    ['90762.40000', '0.045', 1732749845],\n",
       "    ['90769.10000', '0.051', 1732749834],\n",
       "    ['90773.40000', '0.175', 1732749840],\n",
       "    ['90773.90000', '2.607', 1732749784],\n",
       "    ['90775.40000', '0.117', 1732749849],\n",
       "    ['90779.80000', '0.101', 1732749833],\n",
       "    ['90780.70000', '1.760', 1732749800],\n",
       "    ['90781.80000', '0.401', 1732749817],\n",
       "    ['90782.50000', '2.607', 1732749750],\n",
       "    ['90784.40000', '0.102', 1732749834],\n",
       "    ['90786.10000', '1.831', 1732749829],\n",
       "    ['90790.00000', '1.840', 1732749800],\n",
       "    ['90791.80000', '0.054', 1732749786],\n",
       "    ['90795.90000', '1.776', 1732749800],\n",
       "    ['90800.80000', '2.606', 1732749750],\n",
       "    ['90801.20000', '1.714', 1732749805],\n",
       "    ['90804.30000', '0.400', 1732749837],\n",
       "    ['90811.20000', '0.001', 1732749798],\n",
       "    ['90812.90000', '2.606', 1732749785],\n",
       "    ['90816.90000', '0.014', 1732749835],\n",
       "    ['90817.00000', '2.606', 1732749833],\n",
       "    ['90820.40000', '0.300', 1732749816],\n",
       "    ['90824.60000', '0.269', 1732749836],\n",
       "    ['90827.00000', '2.605', 1732749664],\n",
       "    ['90841.30000', '0.318', 1732749828],\n",
       "    ['90852.70000', '2.605', 1732749742],\n",
       "    ['90863.80000', '0.700', 1732749832],\n",
       "    ['90879.80000', '0.209', 1732749729],\n",
       "    ['90880.00000', '0.001', 1732749812],\n",
       "    ['90882.90000', '0.105', 1732749730],\n",
       "    ['90884.80000', '0.053', 1732749731],\n",
       "    ['90893.10000', '2.603', 1732749749],\n",
       "    ['90907.90000', '2.603', 1732749815],\n",
       "    ['90916.00000', '2.603', 1732749845],\n",
       "    ['90918.10000', '0.021', 1732749732],\n",
       "    ['90922.50000', '0.051', 1732749841],\n",
       "    ['90931.50000', '0.374', 1732749800],\n",
       "    ['90932.40000', '3.620', 1732749846],\n",
       "    ['90944.80000', '0.001', 1732749262],\n",
       "    ['90946.20000', '0.002', 1732749812],\n",
       "    ['90967.10000', '1.029', 1732749556],\n",
       "    ['90967.60000', '0.030', 1732749843],\n",
       "    ['90974.60000', '0.050', 1732749755],\n",
       "    ['90986.50000', '0.771', 1732749773],\n",
       "    ['91002.70000', '1.021', 1732749647],\n",
       "    ['91022.40000', '1.287', 1732749648],\n",
       "    ['91023.90000', '2.600', 1732749805],\n",
       "    ['91046.40000', '0.001', 1732749838],\n",
       "    ['91068.70000', '0.006', 1732749363],\n",
       "    ['91069.50000', '0.130', 1732749847],\n",
       "    ['91078.80000', '1.135', 1732749782],\n",
       "    ['91082.20000', '0.010', 1732749819],\n",
       "    ['91086.70000', '1.487', 1732749572],\n",
       "    ['91108.30000', '0.047', 1732749819],\n",
       "    ['91109.20000', '0.001', 1732749080],\n",
       "    ['91112.80000', '1.479', 1732749598],\n",
       "    ['91117.20000', '0.011', 1732749412],\n",
       "    ['91121.10000', '0.002', 1732749352],\n",
       "    ['91126.10000', '0.038', 1732749853],\n",
       "    ['91130.60000', '1.990', 1732749847],\n",
       "    ['91142.10000', '0.003', 1732749487],\n",
       "    ['91151.70000', '2.153', 1732749695],\n",
       "    ['91168.80000', '0.047', 1732749841],\n",
       "    ['91173.30000', '1.901', 1732749836],\n",
       "    ['91177.80000', '0.057', 1732749830],\n",
       "    ['91200.00000', '0.001', 1732749194],\n",
       "    ['91261.50000', '0.066', 1732749819],\n",
       "    ['91266.00000', '2.593', 1732749648],\n",
       "    ['91273.80000', '0.001', 1732749034],\n",
       "    ['91287.80000', '1.886', 1732749737],\n",
       "    ['91295.50000', '0.076', 1732749819],\n",
       "    ['91300.00000', '0.331', 1732749174],\n",
       "    ['91313.60000', '0.585', 1732749847],\n",
       "    ['91315.50000', '0.031', 1732747691],\n",
       "    ['91333.70000', '2.248', 1732749802],\n",
       "    ['91371.50000', '0.085', 1732749819],\n",
       "    ['91376.00000', '1.961', 1732749323]],\n",
       "   'bids': [['90718.70000', '0.170', 1732749853],\n",
       "    ['90711.00000', '0.007', 1732749834],\n",
       "    ['90705.30000', '0.021', 1732749839],\n",
       "    ['90700.90000', '0.011', 1732749853],\n",
       "    ['90700.20000', '2.609', 1732749855],\n",
       "    ['90700.10000', '0.001', 1732749846],\n",
       "    ['90700.00000', '0.004', 1732749853],\n",
       "    ['90699.10000', '0.016', 1732749834],\n",
       "    ['90698.90000', '2.609', 1732749852],\n",
       "    ['90696.90000', '0.273', 1732749842],\n",
       "    ['90696.10000', '0.040', 1732749844],\n",
       "    ['90695.60000', '0.011', 1732749841],\n",
       "    ['90695.40000', '0.045', 1732749844],\n",
       "    ['90693.50000', '5.218', 1732749847],\n",
       "    ['90691.50000', '5.218', 1732749845],\n",
       "    ['90688.20000', '5.218', 1732749853],\n",
       "    ['90679.70000', '0.139', 1732749849],\n",
       "    ['90679.60000', '0.003', 1732749826],\n",
       "    ['90675.10000', '2.610', 1732749833],\n",
       "    ['90674.30000', '0.013', 1732749852],\n",
       "    ['90672.80000', '0.011', 1732749823],\n",
       "    ['90669.30000', '0.250', 1732749852],\n",
       "    ['90664.20000', '0.102', 1732749824],\n",
       "    ['90662.30000', '2.669', 1732749825],\n",
       "    ['90660.60000', '0.042', 1732749814],\n",
       "    ['90655.60000', '0.011', 1732749833],\n",
       "    ['90649.00000', '0.032', 1732749835],\n",
       "    ['90648.90000', '2.611', 1732749816],\n",
       "    ['90648.60000', '0.011', 1732749824],\n",
       "    ['90633.30000', '0.001', 1732749117],\n",
       "    ['90630.50000', '0.008', 1732749811],\n",
       "    ['90630.40000', '0.117', 1732749798],\n",
       "    ['90630.20000', '0.011', 1732749204],\n",
       "    ['90629.80000', '2.611', 1732749738],\n",
       "    ['90627.10000', '0.053', 1732749831],\n",
       "    ['90617.10000', '0.001', 1732741064],\n",
       "    ['90614.80000', '2.612', 1732749779],\n",
       "    ['90614.40000', '0.105', 1732749821],\n",
       "    ['90606.10000', '2.612', 1732749805],\n",
       "    ['90604.80000', '2.612', 1732749811],\n",
       "    ['90602.90000', '2.612', 1732749820],\n",
       "    ['90602.30000', '2.612', 1732749833],\n",
       "    ['90600.10000', '0.001', 1732749476],\n",
       "    ['90600.00000', '0.012', 1732749210],\n",
       "    ['90586.60000', '0.002', 1732741076],\n",
       "    ['90586.40000', '1.530', 1732749795],\n",
       "    ['90581.10000', '1.478', 1732749800],\n",
       "    ['90560.60000', '1.503', 1732749812],\n",
       "    ['90554.20000', '0.050', 1732749787],\n",
       "    ['90554.10000', '1.260', 1732749529],\n",
       "    ['90552.70000', '2.613', 1732749774],\n",
       "    ['90552.00000', '2.613', 1732749799],\n",
       "    ['90547.00000', '1.501', 1732749798],\n",
       "    ['90541.80000', '1.481', 1732749800],\n",
       "    ['90535.90000', '1.506', 1732749800],\n",
       "    ['90535.10000', '0.001', 1732749811],\n",
       "    ['90529.80000', '0.039', 1732749822],\n",
       "    ['90529.60000', '0.110', 1732749800],\n",
       "    ['90518.80000', '1.040', 1732749832],\n",
       "    ['90518.70000', '2.614', 1732749812],\n",
       "    ['90510.90000', '0.100', 1732744320],\n",
       "    ['90510.80000', '0.002', 1732749812],\n",
       "    ['90509.30000', '0.004', 1732729988],\n",
       "    ['90503.40000', '3.850', 1732749740],\n",
       "    ['90500.30000', '0.757', 1732749815],\n",
       "    ['90500.10000', '0.001', 1732749122],\n",
       "    ['90500.00000', '0.101', 1732748121],\n",
       "    ['90495.20000', '0.001', 1732749788],\n",
       "    ['90490.70000', '1.893', 1732749487],\n",
       "    ['90490.40000', '0.111', 1732749151],\n",
       "    ['90487.60000', '0.001', 1732749522],\n",
       "    ['90486.60000', '0.012', 1732749799],\n",
       "    ['90482.10000', '0.011', 1732749486],\n",
       "    ['90479.20000', '0.001', 1732749799],\n",
       "    ['90476.40000', '0.107', 1732749834],\n",
       "    ['90471.90000', '2.279', 1732749740],\n",
       "    ['90471.60000', '0.051', 1732749833],\n",
       "    ['90466.00000', '0.001', 1732749639],\n",
       "    ['90464.40000', '0.131', 1732749845],\n",
       "    ['90461.50000', '0.010', 1732731134],\n",
       "    ['90459.60000', '0.773', 1732749852],\n",
       "    ['90457.00000', '0.002', 1732749776],\n",
       "    ['90453.70000', '0.001', 1732728913],\n",
       "    ['90441.10000', '0.004', 1732748553],\n",
       "    ['90432.20000', '0.178', 1732749834],\n",
       "    ['90427.70000', '9.953', 1732749813],\n",
       "    ['90426.40000', '0.108', 1732749852],\n",
       "    ['90414.00000', '0.001', 1732749158],\n",
       "    ['90400.10000', '0.001', 1732749696],\n",
       "    ['90400.00000', '0.006', 1732741696],\n",
       "    ['90393.70000', '0.226', 1732749834],\n",
       "    ['90392.90000', '0.003', 1732732335],\n",
       "    ['90389.20000', '2.618', 1732749826],\n",
       "    ['90387.20000', '0.003', 1732749843],\n",
       "    ['90367.70000', '0.080', 1732749827],\n",
       "    ['90367.00000', '0.009', 1732736755],\n",
       "    ['90364.40000', '0.001', 1732738732],\n",
       "    ['90359.60000', '0.002', 1732741015],\n",
       "    ['90357.70000', '1.915', 1732749118],\n",
       "    ['90354.00000', '0.034', 1732729077]]}}}"
      ]
     },
     "execution_count": 8,
     "metadata": {},
     "output_type": "execute_result"
    }
   ],
   "execution_count": 8
  },
  {
   "metadata": {
    "ExecuteTime": {
     "end_time": "2024-11-27T23:25:10.281152Z",
     "start_time": "2024-11-27T23:25:10.276274Z"
    }
   },
   "cell_type": "code",
   "source": "e = data.get(\"result\").get(a).get(\"asks\")",
   "id": "ed737cb17bdfa57",
   "outputs": [],
   "execution_count": 12
  },
  {
   "metadata": {
    "ExecuteTime": {
     "end_time": "2024-11-27T23:56:04.048061Z",
     "start_time": "2024-11-27T23:56:04.023542Z"
    }
   },
   "cell_type": "code",
   "source": [
    "a = list(data.get(\"result\").keys())[0]\n",
    "a\n"
   ],
   "id": "d34ed6c80b0c4ec4",
   "outputs": [
    {
     "ename": "TypeError",
     "evalue": "'list' object is not callable",
     "output_type": "error",
     "traceback": [
      "\u001B[1;31m---------------------------------------------------------------------------\u001B[0m",
      "\u001B[1;31mTypeError\u001B[0m                                 Traceback (most recent call last)",
      "Cell \u001B[1;32mIn[40], line 1\u001B[0m\n\u001B[1;32m----> 1\u001B[0m a \u001B[38;5;241m=\u001B[39m \u001B[38;5;28;43mlist\u001B[39;49m\u001B[43m(\u001B[49m\u001B[43mdata\u001B[49m\u001B[38;5;241;43m.\u001B[39;49m\u001B[43mget\u001B[49m\u001B[43m(\u001B[49m\u001B[38;5;124;43m\"\u001B[39;49m\u001B[38;5;124;43mresult\u001B[39;49m\u001B[38;5;124;43m\"\u001B[39;49m\u001B[43m)\u001B[49m\u001B[38;5;241;43m.\u001B[39;49m\u001B[43mkeys\u001B[49m\u001B[43m(\u001B[49m\u001B[43m)\u001B[49m\u001B[43m)\u001B[49m[\u001B[38;5;241m0\u001B[39m]\n\u001B[0;32m      2\u001B[0m a\n",
      "\u001B[1;31mTypeError\u001B[0m: 'list' object is not callable"
     ]
    }
   ],
   "execution_count": 40
  },
  {
   "metadata": {
    "ExecuteTime": {
     "end_time": "2024-11-22T00:28:31.697403Z",
     "start_time": "2024-11-22T00:28:31.678880Z"
    }
   },
   "cell_type": "code",
   "source": [
    "key_result = data.get(\"result\").keys()\n",
    "Couple_crypto = key_result[0]"
   ],
   "id": "91d0ee6f6c9be8aa",
   "outputs": [
    {
     "ename": "TypeError",
     "evalue": "float() argument must be a string or a real number, not 'list'",
     "output_type": "error",
     "traceback": [
      "\u001B[1;31m---------------------------------------------------------------------------\u001B[0m",
      "\u001B[1;31mTypeError\u001B[0m                                 Traceback (most recent call last)",
      "Cell \u001B[1;32mIn[32], line 1\u001B[0m\n\u001B[1;32m----> 1\u001B[0m dat\u001B[38;5;241m=\u001B[39m \u001B[38;5;28;43mfloat\u001B[39;49m\u001B[43m(\u001B[49m\u001B[43mdata\u001B[49m\u001B[38;5;241;43m.\u001B[39;49m\u001B[43mget\u001B[49m\u001B[43m(\u001B[49m\u001B[38;5;124;43m\"\u001B[39;49m\u001B[38;5;124;43mresult\u001B[39;49m\u001B[38;5;124;43m\"\u001B[39;49m\u001B[43m)\u001B[49m\u001B[38;5;241;43m.\u001B[39;49m\u001B[43mget\u001B[49m\u001B[43m(\u001B[49m\u001B[38;5;124;43m\"\u001B[39;49m\u001B[38;5;124;43mXXBTZEUR\u001B[39;49m\u001B[38;5;124;43m\"\u001B[39;49m\u001B[43m)\u001B[49m\u001B[38;5;241;43m.\u001B[39;49m\u001B[43mget\u001B[49m\u001B[43m(\u001B[49m\u001B[38;5;124;43m\"\u001B[39;49m\u001B[38;5;124;43masks\u001B[39;49m\u001B[38;5;124;43m\"\u001B[39;49m\u001B[43m)\u001B[49m\u001B[43m)\u001B[49m\n\u001B[0;32m      2\u001B[0m dat\n",
      "\u001B[1;31mTypeError\u001B[0m: float() argument must be a string or a real number, not 'list'"
     ]
    }
   ],
   "execution_count": 32
  },
  {
   "metadata": {
    "ExecuteTime": {
     "end_time": "2024-11-22T00:29:14.058483Z",
     "start_time": "2024-11-22T00:29:14.035881Z"
    }
   },
   "cell_type": "code",
   "source": [
    "d ={}\n",
    "for list_curent in dat:\n",
    "    for j in float(list_curent):\n",
    "        d[f\"{j}\"] = list(list_curent[j])"
   ],
   "id": "d9a65f521d45a10",
   "outputs": [
    {
     "ename": "TypeError",
     "evalue": "float() argument must be a string or a real number, not 'list'",
     "output_type": "error",
     "traceback": [
      "\u001B[1;31m---------------------------------------------------------------------------\u001B[0m",
      "\u001B[1;31mTypeError\u001B[0m                                 Traceback (most recent call last)",
      "Cell \u001B[1;32mIn[33], line 3\u001B[0m\n\u001B[0;32m      1\u001B[0m d \u001B[38;5;241m=\u001B[39m{}\n\u001B[0;32m      2\u001B[0m \u001B[38;5;28;01mfor\u001B[39;00m list_curent \u001B[38;5;129;01min\u001B[39;00m dat:\n\u001B[1;32m----> 3\u001B[0m     \u001B[38;5;28;01mfor\u001B[39;00m j \u001B[38;5;129;01min\u001B[39;00m \u001B[38;5;28;43mfloat\u001B[39;49m\u001B[43m(\u001B[49m\u001B[43mlist_curent\u001B[49m\u001B[43m)\u001B[49m:\n\u001B[0;32m      4\u001B[0m         d[\u001B[38;5;124mf\u001B[39m\u001B[38;5;124m\"\u001B[39m\u001B[38;5;132;01m{\u001B[39;00mj\u001B[38;5;132;01m}\u001B[39;00m\u001B[38;5;124m\"\u001B[39m] \u001B[38;5;241m=\u001B[39m \u001B[38;5;28mlist\u001B[39m(list_curent[j])\n",
      "\u001B[1;31mTypeError\u001B[0m: float() argument must be a string or a real number, not 'list'"
     ]
    }
   ],
   "execution_count": 33
  },
  {
   "metadata": {
    "ExecuteTime": {
     "end_time": "2024-11-22T00:43:17.345940Z",
     "start_time": "2024-11-22T00:43:16.182818Z"
    }
   },
   "cell_type": "code",
   "source": [
    "from pydantic import BaseModel\n",
    "from typing import List\n",
    "import pandas as pd"
   ],
   "id": "282080cc266e5e7c",
   "outputs": [],
   "execution_count": 42
  },
  {
   "metadata": {
    "ExecuteTime": {
     "end_time": "2024-11-22T00:15:13.009484Z",
     "start_time": "2024-11-22T00:15:13.003242Z"
    }
   },
   "cell_type": "code",
   "source": "range(len(dat))",
   "id": "c4fc6dc73c75961d",
   "outputs": [
    {
     "data": {
      "text/plain": [
       "range(0, 100)"
      ]
     },
     "execution_count": 25,
     "metadata": {},
     "output_type": "execute_result"
    }
   ],
   "execution_count": 25
  },
  {
   "metadata": {
    "ExecuteTime": {
     "end_time": "2024-11-22T05:38:42.237428Z",
     "start_time": "2024-11-22T05:38:42.223467Z"
    }
   },
   "cell_type": "code",
   "source": [
    "# Exemple de données\n",
    "dat = [\n",
    "    [\"89698.70000\", \"0.125\", 1732135308],\n",
    "    [\"89699.00000\", \"0.250\", 1732135309],\n",
    "    [\"89698.50000\", \"0.100\", 1732135307]\n",
    "]\n",
    "\n",
    "# Initialisation du dictionnaire\n",
    "d = {\"0\": [], \"1\": [], \"2\": []}\n",
    "\n",
    "# Itération sur les listes dans dat\n",
    "for i in range(len(dat)):\n",
    "    for j in range(len(dat[i])):\n",
    "        d[str(j)].append(dat[i][j])\n",
    "\n",
    "d\n",
    "\n",
    "# Affichage du dictionnaire résultant\n",
    "\n"
   ],
   "id": "78f895bd98d8950f",
   "outputs": [
    {
     "data": {
      "text/plain": [
       "{'0': ['89698.70000', '89699.00000', '89698.50000'],\n",
       " '1': ['0.125', '0.250', '0.100'],\n",
       " '2': [1732135308, 1732135309, 1732135307]}"
      ]
     },
     "execution_count": 5,
     "metadata": {},
     "output_type": "execute_result"
    }
   ],
   "execution_count": 5
  },
  {
   "metadata": {},
   "cell_type": "code",
   "outputs": [],
   "execution_count": null,
   "source": [
    "ask = data.get(\"result\").get(\"XXBTZEUR\").get(\"asks\")\n",
    "bid= data.get(\"result\").get(\"XXBTZEUR\").get(\"bids\")\n",
    "for i in range(len(ask)):\n"
   ],
   "id": "ba49eeb1ff17ba44"
  },
  {
   "metadata": {
    "ExecuteTime": {
     "end_time": "2024-11-21T19:45:15.703545Z",
     "start_time": "2024-11-21T19:45:15.698626Z"
    }
   },
   "cell_type": "code",
   "source": "d = [\"dd\", \"efd\"], [\"ed\"]",
   "id": "a5952a2fb41b4a13",
   "outputs": [],
   "execution_count": 7
  },
  {
   "metadata": {
    "ExecuteTime": {
     "end_time": "2024-11-21T19:45:17.735876Z",
     "start_time": "2024-11-21T19:45:17.729589Z"
    }
   },
   "cell_type": "code",
   "source": "d[0][1]",
   "id": "418d76235ab9a919",
   "outputs": [
    {
     "data": {
      "text/plain": [
       "'efd'"
      ]
     },
     "execution_count": 8,
     "metadata": {},
     "output_type": "execute_result"
    }
   ],
   "execution_count": 8
  },
  {
   "metadata": {
    "ExecuteTime": {
     "end_time": "2024-11-22T00:08:04.199586Z",
     "start_time": "2024-11-22T00:08:04.143942Z"
    }
   },
   "cell_type": "code",
   "source": "a = 2, 5, 7",
   "id": "982e8788512269a8",
   "outputs": [],
   "execution_count": 10
  },
  {
   "metadata": {
    "ExecuteTime": {
     "end_time": "2024-11-22T00:08:14.794555Z",
     "start_time": "2024-11-22T00:08:14.787570Z"
    }
   },
   "cell_type": "code",
   "source": "list(a)",
   "id": "57e9ea4b851a751c",
   "outputs": [
    {
     "data": {
      "text/plain": [
       "[2, 5, 7]"
      ]
     },
     "execution_count": 12,
     "metadata": {},
     "output_type": "execute_result"
    }
   ],
   "execution_count": 12
  },
  {
   "metadata": {
    "ExecuteTime": {
     "end_time": "2024-11-22T00:41:40.225900Z",
     "start_time": "2024-11-22T00:41:40.219108Z"
    }
   },
   "cell_type": "code",
   "source": "dir(d)",
   "id": "eb3cabcb0956d073",
   "outputs": [
    {
     "data": {
      "text/plain": [
       "['__class__',\n",
       " '__class_getitem__',\n",
       " '__contains__',\n",
       " '__delattr__',\n",
       " '__delitem__',\n",
       " '__dir__',\n",
       " '__doc__',\n",
       " '__eq__',\n",
       " '__format__',\n",
       " '__ge__',\n",
       " '__getattribute__',\n",
       " '__getitem__',\n",
       " '__getstate__',\n",
       " '__gt__',\n",
       " '__hash__',\n",
       " '__init__',\n",
       " '__init_subclass__',\n",
       " '__ior__',\n",
       " '__iter__',\n",
       " '__le__',\n",
       " '__len__',\n",
       " '__lt__',\n",
       " '__ne__',\n",
       " '__new__',\n",
       " '__or__',\n",
       " '__reduce__',\n",
       " '__reduce_ex__',\n",
       " '__repr__',\n",
       " '__reversed__',\n",
       " '__ror__',\n",
       " '__setattr__',\n",
       " '__setitem__',\n",
       " '__sizeof__',\n",
       " '__str__',\n",
       " '__subclasshook__',\n",
       " 'clear',\n",
       " 'copy',\n",
       " 'fromkeys',\n",
       " 'get',\n",
       " 'items',\n",
       " 'keys',\n",
       " 'pop',\n",
       " 'popitem',\n",
       " 'setdefault',\n",
       " 'update',\n",
       " 'values']"
      ]
     },
     "execution_count": 39,
     "metadata": {},
     "output_type": "execute_result"
    }
   ],
   "execution_count": 39
  },
  {
   "metadata": {
    "ExecuteTime": {
     "end_time": "2024-11-22T06:00:04.350416Z",
     "start_time": "2024-11-22T06:00:04.344300Z"
    }
   },
   "cell_type": "code",
   "source": [
    "zz = {}\n",
    "for i in range(3):\n",
    "    zz[str(i)] = []\n",
    "    zz[str(i)].append(i)"
   ],
   "id": "46c239ecda883723",
   "outputs": [],
   "execution_count": 10
  },
  {
   "metadata": {
    "ExecuteTime": {
     "end_time": "2024-11-22T06:01:19.635827Z",
     "start_time": "2024-11-22T06:01:19.629173Z"
    }
   },
   "cell_type": "code",
   "source": "type(zz)",
   "id": "fe57bd07e33614f5",
   "outputs": [
    {
     "data": {
      "text/plain": [
       "dict"
      ]
     },
     "execution_count": 13,
     "metadata": {},
     "output_type": "execute_result"
    }
   ],
   "execution_count": 13
  },
  {
   "metadata": {
    "ExecuteTime": {
     "end_time": "2024-11-22T06:15:48.202655Z",
     "start_time": "2024-11-22T06:15:48.195879Z"
    }
   },
   "cell_type": "code",
   "source": "isinstance(zz.keys(), list)",
   "id": "e78a9f741e1cd588",
   "outputs": [
    {
     "data": {
      "text/plain": [
       "False"
      ]
     },
     "execution_count": 16,
     "metadata": {},
     "output_type": "execute_result"
    }
   ],
   "execution_count": 16
  },
  {
   "metadata": {
    "ExecuteTime": {
     "end_time": "2024-11-22T06:17:36.400459Z",
     "start_time": "2024-11-22T06:17:36.394965Z"
    }
   },
   "cell_type": "code",
   "source": [
    "for key in range(len(zz.keys())):\n",
    "    print(type(key))\n"
   ],
   "id": "ae1c303a71a52cd4",
   "outputs": [
    {
     "name": "stdout",
     "output_type": "stream",
     "text": [
      "<class 'int'>\n",
      "<class 'int'>\n",
      "<class 'int'>\n"
     ]
    }
   ],
   "execution_count": 21
  },
  {
   "metadata": {
    "ExecuteTime": {
     "end_time": "2024-11-27T23:55:06.009954Z",
     "start_time": "2024-11-27T23:55:05.999365Z"
    }
   },
   "cell_type": "code",
   "source": [
    "\n",
    "import requests\n",
    "from decouple import config\n",
    "from fastapi import HTTPException\n",
    "from app.models.Crypto_models.DataModel_crypto import data_asks_bids, Crypto, Data_crypto\n",
    "\n",
    "CRYPTO_URL = config(\"URL_CRYPTO\", default=\"https://api.kraken.com/0/public/Depth\")\n",
    "\n",
    "def get_crypto_pair_data1(symbol: str):\n",
    "    try:\n",
    "        url = f\"{CRYPTO_URL}\"\n",
    "        params = {\"pair\": symbol}\n",
    "        headers = {'accept': 'application/json'}\n",
    "        payload = {}\n",
    "        request_timeout = 10\n",
    "        response = requests.get(url, headers=headers, params=params,\n",
    "                                data=payload, timeout=request_timeout)\n",
    "        response.raise_for_status()\n",
    "        data = response.json()\n",
    "\n",
    "        print(f\"statut de la reponse : {response.status_code}\")\n",
    "        print(f\"reponse brute : {response.text}\")\n",
    "\n",
    "        if data.get(\"error\") and len(data[\"error\"]) > 0:\n",
    "            return f\"erreur dans data: {data['error']}\"\n",
    "        if data.get(\"result\"):\n",
    "\n",
    "            couple_crypto = list(data.get(\"result\").keys())[0]\n",
    "            data_asks = data.get(\"result\").get(couple_crypto).get(\"asks\")\n",
    "            data_bids = data.get(\"result\").get(couple_crypto).get(\"bids\")\n",
    "\n",
    "            ### utilsation de liste en comprehension pour innitialiser les dictionnaire qui vont contenir les données asks et bids\n",
    "            nb_colonnes = len(data_asks[0])\n",
    "            dictionnaire_asks = {str(i): [] for i in range(nb_colonnes)}\n",
    "            dictionnaire_bids = {str(i): [] for i in range(nb_colonnes)}\n",
    "            for liste_data in data_asks:\n",
    "                for index, valeur in enumerate(liste_data):\n",
    "                    dictionnaire_asks[str(index)].append(valeur)\n",
    "                    dictionnaire_bids[str(index)].append(valeur)\n",
    "\n",
    "\n",
    "            price_asks= dictionnaire_asks[\"0\"]\n",
    "            volume_asks= dictionnaire_asks[\"1\"]\n",
    "            temps_asks= dictionnaire_asks[\"2\"]\n",
    "            price_bids= dictionnaire_bids[\"0\"]\n",
    "            volume_bids= dictionnaire_bids[\"1\"]\n",
    "            temps_bids= dictionnaire_bids[\"2\"]\n",
    "\n",
    "\n",
    "\n",
    "            instance_data_ask = Data_crypto(\n",
    "                price = price_asks,\n",
    "                volume = volume_asks,\n",
    "                temps = temps_asks\n",
    "            )\n",
    "            instance_data_bid = Data_crypto(\n",
    "                price= price_bids,\n",
    "                volume= volume_bids,\n",
    "                temps= temps_bids\n",
    "            )\n",
    "            instance_data_asks_bids = data_asks_bids(\n",
    "                asks= instance_data_ask,\n",
    "                bids= instance_data_bid\n",
    "            )\n",
    "            instance_crypto = Crypto(\n",
    "                couple_crypto= couple_crypto,\n",
    "                data_dict= instance_data_asks_bids\n",
    "            )\n",
    "            return instance_crypto.dict()\n",
    "\n",
    "        raise HTTPException(\n",
    "            status_code=500,\n",
    "            detail=\"erreur dans le format attendu dans la reponse\"\n",
    "        )\n",
    "\n",
    "    except requests.exceptions.RequestException as e:\n",
    "        return f\"probleme à l'appel de l'api de kraken : {str(e)}\"\n"
   ],
   "id": "90f1425e4cb3ceb8",
   "outputs": [],
   "execution_count": 37
  },
  {
   "metadata": {
    "ExecuteTime": {
     "end_time": "2024-11-27T23:55:09.342924Z",
     "start_time": "2024-11-27T23:55:08.904742Z"
    }
   },
   "cell_type": "code",
   "source": "ee = get_crypto_pair_data1(\"BTCEUR\")",
   "id": "db3af31bd5b3f289",
   "outputs": [
    {
     "name": "stdout",
     "output_type": "stream",
     "text": [
      "statut de la reponse : 200\n",
      "reponse brute : {\"error\":[],\"result\":{\"XXBTZEUR\":{\"asks\":[[\"90845.30000\",\"0.009\",1732751706],[\"90845.80000\",\"2.606\",1732751708],[\"90846.40000\",\"2.606\",1732751707],[\"90848.00000\",\"0.195\",1732751708],[\"90848.10000\",\"2.606\",1732751707],[\"90848.60000\",\"5.211\",1732751708],[\"90853.80000\",\"5.211\",1732751707],[\"90854.70000\",\"5.211\",1732751707],[\"90855.00000\",\"0.007\",1732751708],[\"90859.90000\",\"0.016\",1732751708],[\"90860.00000\",\"0.165\",1732751695],[\"90861.90000\",\"0.022\",1732751705],[\"90862.00000\",\"2.605\",1732751708],[\"90864.00000\",\"0.017\",1732751708],[\"90875.20000\",\"0.045\",1732751704],[\"90876.10000\",\"0.006\",1732751698],[\"90876.40000\",\"2.605\",1732751678],[\"90877.10000\",\"0.011\",1732751694],[\"90877.80000\",\"0.081\",1732751708],[\"90878.50000\",\"0.054\",1732751677],[\"90879.10000\",\"0.040\",1732751706],[\"90879.70000\",\"0.175\",1732751708],[\"90879.80000\",\"0.250\",1732751704],[\"90883.30000\",\"0.039\",1732751708],[\"90884.30000\",\"0.593\",1732751706],[\"90886.60000\",\"0.001\",1732751550],[\"90888.60000\",\"2.605\",1732751591],[\"90901.10000\",\"2.605\",1732751606],[\"90902.10000\",\"2.604\",1732751256],[\"90903.20000\",\"0.300\",1732751620],[\"90906.40000\",\"1.738\",1732751677],[\"90908.70000\",\"0.400\",1732751694],[\"90909.10000\",\"0.102\",1732751706],[\"90912.30000\",\"0.401\",1732751680],[\"90912.60000\",\"1.727\",1732751515],[\"90917.10000\",\"0.117\",1732751694],[\"90926.30000\",\"0.116\",1732751704],[\"90927.60000\",\"2.604\",1732751641],[\"90929.00000\",\"1.558\",1732751561],[\"90931.90000\",\"2.604\",1732751651],[\"90932.30000\",\"1.496\",1732751515],[\"90943.30000\",\"0.105\",1732751566],[\"90945.10000\",\"2.603\",1732751647],[\"90946.90000\",\"2.603\",1732751673],[\"90949.40000\",\"2.603\",1732751561],[\"90953.90000\",\"0.014\",1732751706],[\"90954.00000\",\"1.584\",1732751515],[\"90955.60000\",\"0.053\",1732751567],[\"90957.40000\",\"0.209\",1732751567],[\"90969.30000\",\"0.700\",1732751656],[\"90969.60000\",\"0.360\",1732751679],[\"90972.10000\",\"0.002\",1732751346],[\"90972.30000\",\"0.276\",1732751678],[\"90975.80000\",\"0.050\",1732751595],[\"90978.60000\",\"1.532\",1732751680],[\"90984.60000\",\"0.021\",1732751586],[\"90999.90000\",\"1.029\",1732751673],[\"91000.00000\",\"0.025\",1732751468],[\"91006.90000\",\"0.020\",1732751707],[\"91007.00000\",\"2.602\",1732751646],[\"91020.60000\",\"0.001\",1732751515],[\"91048.30000\",\"2.600\",1732751694],[\"91049.30000\",\"0.374\",1732751638],[\"91055.90000\",\"3.620\",1732751673],[\"91068.70000\",\"0.006\",1732749363],[\"91071.20000\",\"0.051\",1732751689],[\"91077.90000\",\"1.021\",1732751231],[\"91083.60000\",\"0.002\",1732751515],[\"91096.40000\",\"0.030\",1732751704],[\"91097.90000\",\"0.130\",1732751678],[\"91102.60000\",\"0.001\",1732751650],[\"91102.70000\",\"1.287\",1732751456],[\"91109.20000\",\"0.001\",1732751115],[\"91117.20000\",\"0.011\",1732749412],[\"91121.10000\",\"0.002\",1732749352],[\"91125.80000\",\"0.771\",1732751693],[\"91142.10000\",\"0.003\",1732749487],[\"91143.00000\",\"2.597\",1732751706],[\"91154.50000\",\"1.901\",1732751640],[\"91167.70000\",\"1.119\",1732751586],[\"91182.60000\",\"1.479\",1732751578],[\"91200.00000\",\"0.001\",1732749194],[\"91230.30000\",\"0.029\",1732751668],[\"91234.80000\",\"0.613\",1732751680],[\"91239.30000\",\"2.138\",1732751666],[\"91239.40000\",\"1.990\",1732751686],[\"91273.80000\",\"0.001\",1732749034],[\"91295.50000\",\"0.085\",1732751691],[\"91300.00000\",\"0.331\",1732751167],[\"91315.50000\",\"0.031\",1732747691],[\"91323.00000\",\"0.010\",1732751169],[\"91335.60000\",\"0.057\",1732751680],[\"91340.10000\",\"2.592\",1732751516],[\"91389.30000\",\"0.002\",1732749260],[\"91400.00000\",\"0.001\",1732747872],[\"91402.80000\",\"0.066\",1732751680],[\"91407.30000\",\"1.886\",1732751369],[\"91414.00000\",\"0.050\",1732746944],[\"91433.30000\",\"0.974\",1732751678],[\"91437.70000\",\"0.001\",1732747062]],\"bids\":[[\"90845.20000\",\"0.037\",1732751708],[\"90837.00000\",\"0.007\",1732751708],[\"90834.20000\",\"2.606\",1732751708],[\"90833.50000\",\"0.002\",1732751708],[\"90833.40000\",\"0.250\",1732751708],[\"90833.30000\",\"2.606\",1732751708],[\"90831.80000\",\"0.019\",1732751708],[\"90831.60000\",\"0.016\",1732751708],[\"90831.40000\",\"2.606\",1732751708],[\"90829.70000\",\"5.212\",1732751707],[\"90829.10000\",\"0.002\",1732751707],[\"90829.00000\",\"0.388\",1732751704],[\"90826.00000\",\"0.008\",1732751707],[\"90825.70000\",\"5.212\",1732751708],[\"90823.90000\",\"0.040\",1732751706],[\"90822.80000\",\"0.233\",1732751704],[\"90821.80000\",\"5.213\",1732751708],[\"90820.10000\",\"0.045\",1732751704],[\"90817.00000\",\"0.011\",1732751663],[\"90814.90000\",\"0.022\",1732751708],[\"90812.20000\",\"0.102\",1732751698],[\"90805.90000\",\"2.607\",1732751707],[\"90805.20000\",\"0.028\",1732751707],[\"90804.00000\",\"0.012\",1732751704],[\"90797.90000\",\"0.400\",1732751708],[\"90794.00000\",\"0.028\",1732751703],[\"90793.90000\",\"0.011\",1732751706],[\"90793.40000\",\"2.608\",1732751650],[\"90788.30000\",\"0.083\",1732751708],[\"90784.20000\",\"0.117\",1732751704],[\"90781.40000\",\"2.608\",1732751608],[\"90765.20000\",\"0.069\",1732751666],[\"90763.70000\",\"2.608\",1732751562],[\"90750.00000\",\"2.609\",1732751553],[\"90743.00000\",\"2.609\",1732751642],[\"90742.60000\",\"0.069\",1732751644],[\"90738.40000\",\"0.209\",1732751607],[\"90732.50000\",\"0.008\",1732751704],[\"90732.40000\",\"1.488\",1732751515],[\"90729.00000\",\"1.533\",1732751561],[\"90724.40000\",\"2.610\",1732751591],[\"90724.10000\",\"1.460\",1732751680],[\"90722.00000\",\"2.610\",1732751603],[\"90721.50000\",\"0.042\",1732751705],[\"90713.50000\",\"2.610\",1732751554],[\"90707.40000\",\"2.610\",1732751702],[\"90706.40000\",\"1.490\",1732751677],[\"90704.00000\",\"0.001\",1732751515],[\"90700.90000\",\"0.011\",1732751426],[\"90700.10000\",\"0.001\",1732751108],[\"90700.00000\",\"0.004\",1732751200],[\"90699.60000\",\"1.524\",1732751515],[\"90679.60000\",\"0.003\",1732750862],[\"90673.60000\",\"0.039\",1732751688],[\"90658.30000\",\"0.773\",1732751706],[\"90658.10000\",\"1.475\",1732751515],[\"90657.30000\",\"0.001\",1732751515],[\"90654.40000\",\"0.053\",1732751338],[\"90653.20000\",\"0.105\",1732751679],[\"90647.50000\",\"0.002\",1732751515],[\"90643.30000\",\"0.749\",1732751699],[\"90637.80000\",\"2.612\",1732751591],[\"90633.30000\",\"0.001\",1732749117],[\"90630.20000\",\"0.011\",1732750945],[\"90627.20000\",\"0.050\",1732751516],[\"90627.10000\",\"0.001\",1732749889],[\"90624.10000\",\"0.106\",1732751705],[\"90623.30000\",\"1.370\",1732751656],[\"90619.40000\",\"0.051\",1732751598],[\"90617.10000\",\"0.001\",1732751681],[\"90610.70000\",\"0.001\",1732751677],[\"90604.50000\",\"0.012\",1732751706],[\"90600.10000\",\"0.001\",1732751289],[\"90600.00000\",\"0.012\",1732751520],[\"90598.00000\",\"0.400\",1732751708],[\"90588.90000\",\"0.108\",1732751706],[\"90586.60000\",\"0.002\",1732750711],[\"90584.40000\",\"1.893\",1732751570],[\"90578.60000\",\"0.060\",1732751706],[\"90578.30000\",\"0.156\",1732751706],[\"90574.10000\",\"2.258\",1732751595],[\"90573.80000\",\"9.937\",1732751233],[\"90550.70000\",\"0.096\",1732751706],[\"90539.20000\",\"2.615\",1732751708],[\"90535.80000\",\"0.108\",1732751706],[\"90535.70000\",\"0.120\",1732751706],[\"90531.30000\",\"1.040\",1732751071],[\"90531.20000\",\"2.615\",1732751653],[\"90515.30000\",\"0.003\",1732751705],[\"90510.90000\",\"0.100\",1732750753],[\"90509.30000\",\"0.004\",1732750795],[\"90503.40000\",\"3.850\",1732751332],[\"90500.10000\",\"0.001\",1732751594],[\"90500.00000\",\"0.101\",1732748121],[\"90495.20000\",\"0.001\",1732750029],[\"90490.40000\",\"0.111\",1732750837],[\"90489.00000\",\"0.080\",1732751685],[\"90487.60000\",\"0.001\",1732749887],[\"90485.80000\",\"0.474\",1732751683],[\"90482.10000\",\"0.011\",1732749926]]}}}\n"
     ]
    },
    {
     "ename": "TypeError",
     "evalue": "'list' object is not callable",
     "output_type": "error",
     "traceback": [
      "\u001B[1;31m---------------------------------------------------------------------------\u001B[0m",
      "\u001B[1;31mTypeError\u001B[0m                                 Traceback (most recent call last)",
      "Cell \u001B[1;32mIn[38], line 1\u001B[0m\n\u001B[1;32m----> 1\u001B[0m ee \u001B[38;5;241m=\u001B[39m \u001B[43mget_crypto_pair_data1\u001B[49m\u001B[43m(\u001B[49m\u001B[38;5;124;43m\"\u001B[39;49m\u001B[38;5;124;43mBTCEUR\u001B[39;49m\u001B[38;5;124;43m\"\u001B[39;49m\u001B[43m)\u001B[49m\n",
      "Cell \u001B[1;32mIn[37], line 27\u001B[0m, in \u001B[0;36mget_crypto_pair_data1\u001B[1;34m(symbol)\u001B[0m\n\u001B[0;32m     24\u001B[0m     \u001B[38;5;28;01mreturn\u001B[39;00m \u001B[38;5;124mf\u001B[39m\u001B[38;5;124m\"\u001B[39m\u001B[38;5;124merreur dans data: \u001B[39m\u001B[38;5;132;01m{\u001B[39;00mdata[\u001B[38;5;124m'\u001B[39m\u001B[38;5;124merror\u001B[39m\u001B[38;5;124m'\u001B[39m]\u001B[38;5;132;01m}\u001B[39;00m\u001B[38;5;124m\"\u001B[39m\n\u001B[0;32m     25\u001B[0m \u001B[38;5;28;01mif\u001B[39;00m data\u001B[38;5;241m.\u001B[39mget(\u001B[38;5;124m\"\u001B[39m\u001B[38;5;124mresult\u001B[39m\u001B[38;5;124m\"\u001B[39m):\n\u001B[1;32m---> 27\u001B[0m     couple_crypto \u001B[38;5;241m=\u001B[39m \u001B[38;5;28;43mlist\u001B[39;49m\u001B[43m(\u001B[49m\u001B[43mdata\u001B[49m\u001B[38;5;241;43m.\u001B[39;49m\u001B[43mget\u001B[49m\u001B[43m(\u001B[49m\u001B[38;5;124;43m\"\u001B[39;49m\u001B[38;5;124;43mresult\u001B[39;49m\u001B[38;5;124;43m\"\u001B[39;49m\u001B[43m)\u001B[49m\u001B[38;5;241;43m.\u001B[39;49m\u001B[43mkeys\u001B[49m\u001B[43m(\u001B[49m\u001B[43m)\u001B[49m\u001B[43m)\u001B[49m[\u001B[38;5;241m0\u001B[39m]\n\u001B[0;32m     28\u001B[0m     data_asks \u001B[38;5;241m=\u001B[39m data\u001B[38;5;241m.\u001B[39mget(\u001B[38;5;124m\"\u001B[39m\u001B[38;5;124mresult\u001B[39m\u001B[38;5;124m\"\u001B[39m)\u001B[38;5;241m.\u001B[39mget(couple_crypto)\u001B[38;5;241m.\u001B[39mget(\u001B[38;5;124m\"\u001B[39m\u001B[38;5;124masks\u001B[39m\u001B[38;5;124m\"\u001B[39m)\n\u001B[0;32m     29\u001B[0m     data_bids \u001B[38;5;241m=\u001B[39m data\u001B[38;5;241m.\u001B[39mget(\u001B[38;5;124m\"\u001B[39m\u001B[38;5;124mresult\u001B[39m\u001B[38;5;124m\"\u001B[39m)\u001B[38;5;241m.\u001B[39mget(couple_crypto)\u001B[38;5;241m.\u001B[39mget(\u001B[38;5;124m\"\u001B[39m\u001B[38;5;124mbids\u001B[39m\u001B[38;5;124m\"\u001B[39m)\n",
      "\u001B[1;31mTypeError\u001B[0m: 'list' object is not callable"
     ]
    }
   ],
   "execution_count": 38
  },
  {
   "metadata": {
    "ExecuteTime": {
     "end_time": "2024-11-27T23:40:34.497016Z",
     "start_time": "2024-11-27T23:40:34.472689Z"
    }
   },
   "cell_type": "code",
   "source": "ll = [\"dcd\", \"scc\", \"dcdc\"]\n",
   "id": "139af2bfd06a6dd9",
   "outputs": [
    {
     "ename": "ValueError",
     "evalue": "too many values to unpack (expected 2)",
     "output_type": "error",
     "traceback": [
      "\u001B[1;31m---------------------------------------------------------------------------\u001B[0m",
      "\u001B[1;31mValueError\u001B[0m                                Traceback (most recent call last)",
      "Cell \u001B[1;32mIn[28], line 2\u001B[0m\n\u001B[0;32m      1\u001B[0m ll \u001B[38;5;241m=\u001B[39m [\u001B[38;5;124m\"\u001B[39m\u001B[38;5;124mdcd\u001B[39m\u001B[38;5;124m\"\u001B[39m, \u001B[38;5;124m\"\u001B[39m\u001B[38;5;124mscc\u001B[39m\u001B[38;5;124m\"\u001B[39m, \u001B[38;5;124m\"\u001B[39m\u001B[38;5;124mdcdc\u001B[39m\u001B[38;5;124m\"\u001B[39m]\n\u001B[1;32m----> 2\u001B[0m a, b \u001B[38;5;241m=\u001B[39m \u001B[38;5;28menumerate\u001B[39m(ll)\n",
      "\u001B[1;31mValueError\u001B[0m: too many values to unpack (expected 2)"
     ]
    }
   ],
   "execution_count": 28
  },
  {
   "metadata": {
    "ExecuteTime": {
     "end_time": "2024-11-27T23:41:39.435962Z",
     "start_time": "2024-11-27T23:41:39.431038Z"
    }
   },
   "cell_type": "code",
   "source": [
    "for a, b in enumerate(ll):\n",
    "    print(a, b)\n"
   ],
   "id": "b3fdfb692e34fed1",
   "outputs": [
    {
     "name": "stdout",
     "output_type": "stream",
     "text": [
      "0 dcd\n",
      "1 scc\n",
      "2 dcdc\n"
     ]
    }
   ],
   "execution_count": 30
  },
  {
   "metadata": {
    "ExecuteTime": {
     "end_time": "2024-11-27T23:26:22.950393Z",
     "start_time": "2024-11-27T23:26:22.945164Z"
    }
   },
   "cell_type": "code",
   "source": [
    "nb_colonnes = 3\n",
    "dictionnaire_asks1 = {str(i): [] for i in range(nb_colonnes)}\n",
    "dictionnaire_bids1 = {str(i): [] for i in range(nb_colonnes)}"
   ],
   "id": "250b84cc28bdc1ae",
   "outputs": [],
   "execution_count": 13
  },
  {
   "metadata": {
    "ExecuteTime": {
     "end_time": "2024-11-27T23:22:02.505944Z",
     "start_time": "2024-11-27T23:22:02.495826Z"
    }
   },
   "cell_type": "code",
   "source": "dictionnaire_asks",
   "id": "2018c99a46b9d439",
   "outputs": [
    {
     "data": {
      "text/plain": [
       "{'0': [], '1': [], '2': []}"
      ]
     },
     "execution_count": 3,
     "metadata": {},
     "output_type": "execute_result"
    }
   ],
   "execution_count": 3
  },
  {
   "metadata": {
    "ExecuteTime": {
     "end_time": "2024-11-27T23:27:17.650321Z",
     "start_time": "2024-11-27T23:27:17.645660Z"
    }
   },
   "cell_type": "code",
   "source": "",
   "id": "ef26109ce456c37c",
   "outputs": [],
   "execution_count": 15
  },
  {
   "metadata": {
    "ExecuteTime": {
     "end_time": "2024-11-27T23:27:19.446228Z",
     "start_time": "2024-11-27T23:27:19.436327Z"
    }
   },
   "cell_type": "code",
   "source": "dictionnaire_asks1",
   "id": "d47749d3dd75d7e0",
   "outputs": [
    {
     "data": {
      "text/plain": [
       "{'0': ['90718.80000',\n",
       "  '90720.00000',\n",
       "  '90721.20000',\n",
       "  '90726.70000',\n",
       "  '90729.00000',\n",
       "  '90729.80000',\n",
       "  '90732.50000',\n",
       "  '90737.40000',\n",
       "  '90737.90000',\n",
       "  '90742.90000',\n",
       "  '90743.00000',\n",
       "  '90744.10000',\n",
       "  '90746.50000',\n",
       "  '90746.60000',\n",
       "  '90748.00000',\n",
       "  '90750.00000',\n",
       "  '90750.10000',\n",
       "  '90754.10000',\n",
       "  '90756.10000',\n",
       "  '90756.60000',\n",
       "  '90757.80000',\n",
       "  '90760.30000',\n",
       "  '90760.40000',\n",
       "  '90762.40000',\n",
       "  '90769.10000',\n",
       "  '90773.40000',\n",
       "  '90773.90000',\n",
       "  '90775.40000',\n",
       "  '90779.80000',\n",
       "  '90780.70000',\n",
       "  '90781.80000',\n",
       "  '90782.50000',\n",
       "  '90784.40000',\n",
       "  '90786.10000',\n",
       "  '90790.00000',\n",
       "  '90791.80000',\n",
       "  '90795.90000',\n",
       "  '90800.80000',\n",
       "  '90801.20000',\n",
       "  '90804.30000',\n",
       "  '90811.20000',\n",
       "  '90812.90000',\n",
       "  '90816.90000',\n",
       "  '90817.00000',\n",
       "  '90820.40000',\n",
       "  '90824.60000',\n",
       "  '90827.00000',\n",
       "  '90841.30000',\n",
       "  '90852.70000',\n",
       "  '90863.80000',\n",
       "  '90879.80000',\n",
       "  '90880.00000',\n",
       "  '90882.90000',\n",
       "  '90884.80000',\n",
       "  '90893.10000',\n",
       "  '90907.90000',\n",
       "  '90916.00000',\n",
       "  '90918.10000',\n",
       "  '90922.50000',\n",
       "  '90931.50000',\n",
       "  '90932.40000',\n",
       "  '90944.80000',\n",
       "  '90946.20000',\n",
       "  '90967.10000',\n",
       "  '90967.60000',\n",
       "  '90974.60000',\n",
       "  '90986.50000',\n",
       "  '91002.70000',\n",
       "  '91022.40000',\n",
       "  '91023.90000',\n",
       "  '91046.40000',\n",
       "  '91068.70000',\n",
       "  '91069.50000',\n",
       "  '91078.80000',\n",
       "  '91082.20000',\n",
       "  '91086.70000',\n",
       "  '91108.30000',\n",
       "  '91109.20000',\n",
       "  '91112.80000',\n",
       "  '91117.20000',\n",
       "  '91121.10000',\n",
       "  '91126.10000',\n",
       "  '91130.60000',\n",
       "  '91142.10000',\n",
       "  '91151.70000',\n",
       "  '91168.80000',\n",
       "  '91173.30000',\n",
       "  '91177.80000',\n",
       "  '91200.00000',\n",
       "  '91261.50000',\n",
       "  '91266.00000',\n",
       "  '91273.80000',\n",
       "  '91287.80000',\n",
       "  '91295.50000',\n",
       "  '91300.00000',\n",
       "  '91313.60000',\n",
       "  '91315.50000',\n",
       "  '91333.70000',\n",
       "  '91371.50000',\n",
       "  '91376.00000'],\n",
       " '1': ['5.217',\n",
       "  '2.608',\n",
       "  '5.216',\n",
       "  '5.216',\n",
       "  '0.007',\n",
       "  '5.216',\n",
       "  '0.011',\n",
       "  '0.024',\n",
       "  '0.017',\n",
       "  '0.211',\n",
       "  '2.608',\n",
       "  '0.022',\n",
       "  '0.086',\n",
       "  '0.062',\n",
       "  '0.593',\n",
       "  '0.040',\n",
       "  '0.250',\n",
       "  '0.050',\n",
       "  '0.183',\n",
       "  '2.607',\n",
       "  '0.042',\n",
       "  '1.813',\n",
       "  '0.011',\n",
       "  '0.045',\n",
       "  '0.051',\n",
       "  '0.175',\n",
       "  '2.607',\n",
       "  '0.117',\n",
       "  '0.101',\n",
       "  '1.760',\n",
       "  '0.401',\n",
       "  '2.607',\n",
       "  '0.102',\n",
       "  '1.831',\n",
       "  '1.840',\n",
       "  '0.054',\n",
       "  '1.776',\n",
       "  '2.606',\n",
       "  '1.714',\n",
       "  '0.400',\n",
       "  '0.001',\n",
       "  '2.606',\n",
       "  '0.014',\n",
       "  '2.606',\n",
       "  '0.300',\n",
       "  '0.269',\n",
       "  '2.605',\n",
       "  '0.318',\n",
       "  '2.605',\n",
       "  '0.700',\n",
       "  '0.209',\n",
       "  '0.001',\n",
       "  '0.105',\n",
       "  '0.053',\n",
       "  '2.603',\n",
       "  '2.603',\n",
       "  '2.603',\n",
       "  '0.021',\n",
       "  '0.051',\n",
       "  '0.374',\n",
       "  '3.620',\n",
       "  '0.001',\n",
       "  '0.002',\n",
       "  '1.029',\n",
       "  '0.030',\n",
       "  '0.050',\n",
       "  '0.771',\n",
       "  '1.021',\n",
       "  '1.287',\n",
       "  '2.600',\n",
       "  '0.001',\n",
       "  '0.006',\n",
       "  '0.130',\n",
       "  '1.135',\n",
       "  '0.010',\n",
       "  '1.487',\n",
       "  '0.047',\n",
       "  '0.001',\n",
       "  '1.479',\n",
       "  '0.011',\n",
       "  '0.002',\n",
       "  '0.038',\n",
       "  '1.990',\n",
       "  '0.003',\n",
       "  '2.153',\n",
       "  '0.047',\n",
       "  '1.901',\n",
       "  '0.057',\n",
       "  '0.001',\n",
       "  '0.066',\n",
       "  '2.593',\n",
       "  '0.001',\n",
       "  '1.886',\n",
       "  '0.076',\n",
       "  '0.331',\n",
       "  '0.585',\n",
       "  '0.031',\n",
       "  '2.248',\n",
       "  '0.085',\n",
       "  '1.961'],\n",
       " '2': [1732749845,\n",
       "  1732749843,\n",
       "  1732749843,\n",
       "  1732749843,\n",
       "  1732749834,\n",
       "  1732749845,\n",
       "  1732749837,\n",
       "  1732749852,\n",
       "  1732749834,\n",
       "  1732749851,\n",
       "  1732749818,\n",
       "  1732749846,\n",
       "  1732749847,\n",
       "  1732749818,\n",
       "  1732749834,\n",
       "  1732749851,\n",
       "  1732749835,\n",
       "  1732749843,\n",
       "  1732749851,\n",
       "  1732749834,\n",
       "  1732749848,\n",
       "  1732749812,\n",
       "  1732749809,\n",
       "  1732749845,\n",
       "  1732749834,\n",
       "  1732749840,\n",
       "  1732749784,\n",
       "  1732749849,\n",
       "  1732749833,\n",
       "  1732749800,\n",
       "  1732749817,\n",
       "  1732749750,\n",
       "  1732749834,\n",
       "  1732749829,\n",
       "  1732749800,\n",
       "  1732749786,\n",
       "  1732749800,\n",
       "  1732749750,\n",
       "  1732749805,\n",
       "  1732749837,\n",
       "  1732749798,\n",
       "  1732749785,\n",
       "  1732749835,\n",
       "  1732749833,\n",
       "  1732749816,\n",
       "  1732749836,\n",
       "  1732749664,\n",
       "  1732749828,\n",
       "  1732749742,\n",
       "  1732749832,\n",
       "  1732749729,\n",
       "  1732749812,\n",
       "  1732749730,\n",
       "  1732749731,\n",
       "  1732749749,\n",
       "  1732749815,\n",
       "  1732749845,\n",
       "  1732749732,\n",
       "  1732749841,\n",
       "  1732749800,\n",
       "  1732749846,\n",
       "  1732749262,\n",
       "  1732749812,\n",
       "  1732749556,\n",
       "  1732749843,\n",
       "  1732749755,\n",
       "  1732749773,\n",
       "  1732749647,\n",
       "  1732749648,\n",
       "  1732749805,\n",
       "  1732749838,\n",
       "  1732749363,\n",
       "  1732749847,\n",
       "  1732749782,\n",
       "  1732749819,\n",
       "  1732749572,\n",
       "  1732749819,\n",
       "  1732749080,\n",
       "  1732749598,\n",
       "  1732749412,\n",
       "  1732749352,\n",
       "  1732749853,\n",
       "  1732749847,\n",
       "  1732749487,\n",
       "  1732749695,\n",
       "  1732749841,\n",
       "  1732749836,\n",
       "  1732749830,\n",
       "  1732749194,\n",
       "  1732749819,\n",
       "  1732749648,\n",
       "  1732749034,\n",
       "  1732749737,\n",
       "  1732749819,\n",
       "  1732749174,\n",
       "  1732749847,\n",
       "  1732747691,\n",
       "  1732749802,\n",
       "  1732749819,\n",
       "  1732749323]}"
      ]
     },
     "execution_count": 16,
     "metadata": {},
     "output_type": "execute_result"
    }
   ],
   "execution_count": 16
  },
  {
   "metadata": {
    "ExecuteTime": {
     "end_time": "2024-11-27T23:28:58.151696Z",
     "start_time": "2024-11-27T23:28:58.142992Z"
    }
   },
   "cell_type": "code",
   "source": "dictionnaire_asks1.get(\"0\", \"1\")",
   "id": "20b79b929e8642c9",
   "outputs": [
    {
     "data": {
      "text/plain": [
       "['90718.80000',\n",
       " '90720.00000',\n",
       " '90721.20000',\n",
       " '90726.70000',\n",
       " '90729.00000',\n",
       " '90729.80000',\n",
       " '90732.50000',\n",
       " '90737.40000',\n",
       " '90737.90000',\n",
       " '90742.90000',\n",
       " '90743.00000',\n",
       " '90744.10000',\n",
       " '90746.50000',\n",
       " '90746.60000',\n",
       " '90748.00000',\n",
       " '90750.00000',\n",
       " '90750.10000',\n",
       " '90754.10000',\n",
       " '90756.10000',\n",
       " '90756.60000',\n",
       " '90757.80000',\n",
       " '90760.30000',\n",
       " '90760.40000',\n",
       " '90762.40000',\n",
       " '90769.10000',\n",
       " '90773.40000',\n",
       " '90773.90000',\n",
       " '90775.40000',\n",
       " '90779.80000',\n",
       " '90780.70000',\n",
       " '90781.80000',\n",
       " '90782.50000',\n",
       " '90784.40000',\n",
       " '90786.10000',\n",
       " '90790.00000',\n",
       " '90791.80000',\n",
       " '90795.90000',\n",
       " '90800.80000',\n",
       " '90801.20000',\n",
       " '90804.30000',\n",
       " '90811.20000',\n",
       " '90812.90000',\n",
       " '90816.90000',\n",
       " '90817.00000',\n",
       " '90820.40000',\n",
       " '90824.60000',\n",
       " '90827.00000',\n",
       " '90841.30000',\n",
       " '90852.70000',\n",
       " '90863.80000',\n",
       " '90879.80000',\n",
       " '90880.00000',\n",
       " '90882.90000',\n",
       " '90884.80000',\n",
       " '90893.10000',\n",
       " '90907.90000',\n",
       " '90916.00000',\n",
       " '90918.10000',\n",
       " '90922.50000',\n",
       " '90931.50000',\n",
       " '90932.40000',\n",
       " '90944.80000',\n",
       " '90946.20000',\n",
       " '90967.10000',\n",
       " '90967.60000',\n",
       " '90974.60000',\n",
       " '90986.50000',\n",
       " '91002.70000',\n",
       " '91022.40000',\n",
       " '91023.90000',\n",
       " '91046.40000',\n",
       " '91068.70000',\n",
       " '91069.50000',\n",
       " '91078.80000',\n",
       " '91082.20000',\n",
       " '91086.70000',\n",
       " '91108.30000',\n",
       " '91109.20000',\n",
       " '91112.80000',\n",
       " '91117.20000',\n",
       " '91121.10000',\n",
       " '91126.10000',\n",
       " '91130.60000',\n",
       " '91142.10000',\n",
       " '91151.70000',\n",
       " '91168.80000',\n",
       " '91173.30000',\n",
       " '91177.80000',\n",
       " '91200.00000',\n",
       " '91261.50000',\n",
       " '91266.00000',\n",
       " '91273.80000',\n",
       " '91287.80000',\n",
       " '91295.50000',\n",
       " '91300.00000',\n",
       " '91313.60000',\n",
       " '91315.50000',\n",
       " '91333.70000',\n",
       " '91371.50000',\n",
       " '91376.00000']"
      ]
     },
     "execution_count": 18,
     "metadata": {},
     "output_type": "execute_result"
    }
   ],
   "execution_count": 18
  },
  {
   "metadata": {
    "ExecuteTime": {
     "end_time": "2024-11-27T23:29:35.628042Z",
     "start_time": "2024-11-27T23:29:35.615466Z"
    }
   },
   "cell_type": "code",
   "source": "dc = {\"e\":\"ed\", \"z\": \"ded\"}",
   "id": "b6324bb3d6dca1b6",
   "outputs": [],
   "execution_count": 19
  },
  {
   "metadata": {
    "ExecuteTime": {
     "end_time": "2024-11-27T23:30:17.273528Z",
     "start_time": "2024-11-27T23:30:17.256068Z"
    }
   },
   "cell_type": "code",
   "source": "dc[\"e\", \"z\"]\n",
   "id": "6935a8bd88cc43cc",
   "outputs": [
    {
     "ename": "KeyError",
     "evalue": "('e', 'z')",
     "output_type": "error",
     "traceback": [
      "\u001B[1;31m---------------------------------------------------------------------------\u001B[0m",
      "\u001B[1;31mKeyError\u001B[0m                                  Traceback (most recent call last)",
      "Cell \u001B[1;32mIn[23], line 1\u001B[0m\n\u001B[1;32m----> 1\u001B[0m \u001B[43mdc\u001B[49m\u001B[43m[\u001B[49m\u001B[38;5;124;43m\"\u001B[39;49m\u001B[38;5;124;43me\u001B[39;49m\u001B[38;5;124;43m\"\u001B[39;49m\u001B[43m,\u001B[49m\u001B[43m \u001B[49m\u001B[38;5;124;43m\"\u001B[39;49m\u001B[38;5;124;43mz\u001B[39;49m\u001B[38;5;124;43m\"\u001B[39;49m\u001B[43m]\u001B[49m\n",
      "\u001B[1;31mKeyError\u001B[0m: ('e', 'z')"
     ]
    }
   ],
   "execution_count": 23
  },
  {
   "metadata": {},
   "cell_type": "code",
   "outputs": [],
   "execution_count": null,
   "source": "",
   "id": "af35a4d56b4d5a06"
  }
 ],
 "metadata": {
  "kernelspec": {
   "display_name": "Python 3 (ipykernel)",
   "language": "python",
   "name": "python3"
  },
  "language_info": {
   "codemirror_mode": {
    "name": "ipython",
    "version": 3
   },
   "file_extension": ".py",
   "mimetype": "text/x-python",
   "name": "python",
   "nbconvert_exporter": "python",
   "pygments_lexer": "ipython3",
   "version": "3.12.3"
  }
 },
 "nbformat": 4,
 "nbformat_minor": 5
}
