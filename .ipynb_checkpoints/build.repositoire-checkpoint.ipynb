{
 "cells": [
  {
   "cell_type": "code",
   "id": "initial_id",
   "metadata": {
    "collapsed": true,
    "ExecuteTime": {
     "end_time": "2024-11-13T17:05:05.117020Z",
     "start_time": "2024-11-13T17:05:05.111096Z"
    }
   },
   "source": "## All repository",
   "outputs": [],
   "execution_count": 1
  },
  {
   "metadata": {
    "ExecuteTime": {
     "end_time": "2024-11-19T21:31:28.961187Z",
     "start_time": "2024-11-19T21:31:28.954681Z"
    }
   },
   "cell_type": "code",
   "source": "import os",
   "id": "1d04324180160be7",
   "outputs": [],
   "execution_count": 1
  },
  {
   "metadata": {
    "ExecuteTime": {
     "end_time": "2024-11-14T17:31:59.191120Z",
     "start_time": "2024-11-14T17:31:59.184493Z"
    }
   },
   "cell_type": "code",
   "source": [
    "repertoire_dict = {\n",
    "    \"__init__\": os.path.join(\"app\", \"__init__.py\"),\n",
    "    \"main\": os.path.join(\"app\", \"main.py\"),\n",
    "    \"routers_init\": os.path.join(\"app\", \"routers\", \"__init__.py\"),\n",
    "    \"routers_weather\": os.path.join(\"app\", \"routers\", \"weathers.py\"),\n",
    "    \"routers_crypto\": os.path.join(\"app\", \"routers\", \"crypto.py\"),\n",
    "    \"services\": os.path.join(\"app\", \"services\", \"__init__.py\"),\n",
    "    \"services_weather\": os.path.join(\"app\", \"services\",\"weather_service.py\"),\n",
    "    \"services_crypto\": os.path.join(\"app\", \"services\",\"crypto_service.py\"),\n",
    "    \"kafka_service\": os.path.join(\"app\", \"services\",\"kafka_service.py\"),\n",
    "    \"gitignore\": \".gitignore\",\n",
    "    \"requierements\": \"requirements.txt\",\n",
    "    \"readme\": \"README.md\",\n",
    "    \"env\": \".env\"\n",
    "    \n",
    "}"
   ],
   "id": "d7927ab6c27ea6ac",
   "outputs": [],
   "execution_count": 16
  },
  {
   "metadata": {
    "ExecuteTime": {
     "end_time": "2024-11-14T17:22:31.236632Z",
     "start_time": "2024-11-14T17:22:31.229948Z"
    }
   },
   "cell_type": "code",
   "source": [
    "keys = repertoire_dict.keys()\n",
    "keys"
   ],
   "id": "950f53b1b1cc0953",
   "outputs": [
    {
     "data": {
      "text/plain": [
       "dict_keys(['__init__', 'main', 'routers_init', 'routers_weather', 'routers_crypto', 'services', 'services_weather', 'services_crypto', 'kafka_service', 'gitignore', 'requierements', 'readme', 'env'])"
      ]
     },
     "execution_count": 13,
     "metadata": {},
     "output_type": "execute_result"
    }
   ],
   "execution_count": 13
  },
  {
   "metadata": {
    "ExecuteTime": {
     "end_time": "2024-11-14T17:32:01.639482Z",
     "start_time": "2024-11-14T17:32:01.626109Z"
    }
   },
   "cell_type": "code",
   "source": [
    "for key in keys:\n",
    "    path = repertoire_dict[key]\n",
    "    dirname = os.path.dirname(path)\n",
    "    if dirname != \"\":\n",
    "        if not os.path.exists(dirname):\n",
    "            os.makedirs(dirname)\n",
    "            with open(path, \"w\") as file:\n",
    "                pass\n",
    "        else:\n",
    "            try:\n",
    "                with open(path, \"w\") as file:\n",
    "                    pass\n",
    "            except Exception as e:\n",
    "                print(f\"erreur : {e}\")\n",
    "    else:\n",
    "        try:\n",
    "            with open(path, \"w\") as file:\n",
    "                pass\n",
    "        except Exception as e:\n",
    "            print(f\"erreur de création du fichier {path}: {e}\")"
   ],
   "id": "2cad73149d9b0b4c",
   "outputs": [],
   "execution_count": 17
  },
  {
   "metadata": {
    "ExecuteTime": {
     "end_time": "2024-11-14T17:19:44.865567Z",
     "start_time": "2024-11-14T17:19:44.858520Z"
    }
   },
   "cell_type": "code",
   "source": [
    "d =os.path.join(\"app\", \"routers\", \"__init__.py\")\n",
    "os.path.dirname(d)"
   ],
   "id": "18245cfa70ad6415",
   "outputs": [
    {
     "data": {
      "text/plain": [
       "'app\\\\routers'"
      ]
     },
     "execution_count": 11,
     "metadata": {},
     "output_type": "execute_result"
    }
   ],
   "execution_count": 11
  },
  {
   "metadata": {},
   "cell_type": "code",
   "outputs": [],
   "execution_count": null,
   "source": "",
   "id": "853065c232b69bf8"
  }
 ],
 "metadata": {
  "kernelspec": {
   "display_name": "Python 3",
   "language": "python",
   "name": "python3"
  },
  "language_info": {
   "codemirror_mode": {
    "name": "ipython",
    "version": 2
   },
   "file_extension": ".py",
   "mimetype": "text/x-python",
   "name": "python",
   "nbconvert_exporter": "python",
   "pygments_lexer": "ipython2",
   "version": "2.7.6"
  }
 },
 "nbformat": 4,
 "nbformat_minor": 5
}
