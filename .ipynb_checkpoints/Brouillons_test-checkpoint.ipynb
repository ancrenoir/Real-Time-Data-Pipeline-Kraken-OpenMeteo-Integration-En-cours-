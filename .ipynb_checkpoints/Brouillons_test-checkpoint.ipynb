{
 "cells": [
  {
   "cell_type": "code",
   "id": "initial_id",
   "metadata": {
    "collapsed": true,
    "ExecuteTime": {
     "end_time": "2024-11-18T18:34:18.203873Z",
     "start_time": "2024-11-18T18:34:18.197838Z"
    }
   },
   "source": "import numpy as np\n",
   "outputs": [],
   "execution_count": 54
  },
  {
   "metadata": {
    "ExecuteTime": {
     "end_time": "2024-11-18T09:45:25.313685Z",
     "start_time": "2024-11-18T09:45:25.308831Z"
    }
   },
   "cell_type": "code",
   "source": [
    "dd ={\n",
    "    \"dd\": False\n",
    "}\n"
   ],
   "id": "c0f11ecb12b34eb6",
   "outputs": [],
   "execution_count": 5
  },
  {
   "metadata": {
    "ExecuteTime": {
     "end_time": "2024-11-18T09:45:27.021898Z",
     "start_time": "2024-11-18T09:45:27.017011Z"
    }
   },
   "cell_type": "code",
   "source": [
    "if dd[\"dd\"] is True:\n",
    "    print(\"ok\")\n",
    "else: print(\"ko\")"
   ],
   "id": "96d0fa537ddfad4a",
   "outputs": [
    {
     "name": "stdout",
     "output_type": "stream",
     "text": [
      "ko\n"
     ]
    }
   ],
   "execution_count": 6
  },
  {
   "metadata": {
    "ExecuteTime": {
     "end_time": "2024-11-18T17:49:22.640861Z",
     "start_time": "2024-11-18T17:49:22.632953Z"
    }
   },
   "cell_type": "code",
   "source": [
    "import openmeteo_requests\n",
    "import requests_cache\n",
    "from retry_requests import retry\n",
    "import requests\n",
    "\n",
    "def get_weather_forecast(latitude : float, longitude: float):\n",
    "    \"\"\"Get weather forecast using the Open-Meteo API.\n",
    "\n",
    "    Args:\n",
    "        latitude (float): Latitude of the location.\n",
    "        longitude (float): Longitude of the location.\n",
    "\n",
    "    Returns:\n",
    "        dict: The weather forecast data.\n",
    "    \"\"\"\n",
    "    # Setup the Open-Meteo API client with cache and retry on error\n",
    "    try:\n",
    "         cache_session = requests_cache.CachedSession('.cache', expire_after=3600)\n",
    "         retry_session = retry(cache_session, retries=5, backoff_factor=0.2)\n",
    "         openmeteo = openmeteo_requests.Client(session=retry_session)\n",
    "         \n",
    "         # Make sure all required weather variables are listed here\n",
    "         # The order of variables in hourly or daily is important to assign them correctly below \n",
    "         url = \"https://api.open-meteo.com/v1/forecast\"\n",
    "         params = {\n",
    "        \"latitude\": latitude,\n",
    "        \"longitude\": longitude,\n",
    "        \"hourly\": [\"temperature_2m\", \"rain\"]\n",
    "         }\n",
    "         responses = openmeteo.weather_api(url, params=params)\n",
    "         data = responses[0]\n",
    "    except requests.exceptions.RequestException as e:\n",
    "        return {\"erreur\": str(e)}\n",
    "    return data"
   ],
   "id": "7753e6c41ccde7de",
   "outputs": [],
   "execution_count": 31
  },
  {
   "metadata": {
    "ExecuteTime": {
     "end_time": "2024-11-18T17:49:24.523910Z",
     "start_time": "2024-11-18T17:49:24.512183Z"
    }
   },
   "cell_type": "code",
   "source": "dd = get_weather_forecast(48.8534, 2.3488)",
   "id": "a17537477837422c",
   "outputs": [],
   "execution_count": 32
  },
  {
   "metadata": {
    "ExecuteTime": {
     "end_time": "2024-11-18T17:54:56.268631Z",
     "start_time": "2024-11-18T17:54:56.263312Z"
    }
   },
   "cell_type": "code",
   "source": [
    "hourly = dd.Hourly()\n",
    "print(dir(hourly))"
   ],
   "id": "71e3884985a23937",
   "outputs": [
    {
     "name": "stdout",
     "output_type": "stream",
     "text": [
      "['GetRootAs', 'GetRootAsVariablesWithTime', 'Init', 'Interval', 'Time', 'TimeEnd', 'Variables', 'VariablesIsNone', 'VariablesLength', '__class__', '__delattr__', '__dir__', '__doc__', '__eq__', '__format__', '__ge__', '__getattribute__', '__getstate__', '__gt__', '__hash__', '__init__', '__init_subclass__', '__le__', '__lt__', '__module__', '__ne__', '__new__', '__reduce__', '__reduce_ex__', '__repr__', '__setattr__', '__sizeof__', '__slots__', '__str__', '__subclasshook__', '_tab']\n"
     ]
    }
   ],
   "execution_count": 41
  },
  {
   "metadata": {
    "ExecuteTime": {
     "end_time": "2024-11-18T18:51:49.731306Z",
     "start_time": "2024-11-18T18:51:49.722741Z"
    }
   },
   "cell_type": "code",
   "source": [
    "npe = hourly.Variables(0).ValuesAsNumpy()\n",
    "npe"
   ],
   "id": "1753836a738c1b27",
   "outputs": [
    {
     "data": {
      "text/plain": [
       "array([ 7.8195    ,  8.0695    ,  8.2695    ,  7.6695    ,  7.5195    ,\n",
       "        7.8694997 ,  8.2195    ,  8.169499  ,  8.419499  ,  9.0195    ,\n",
       "        9.419499  , 10.3695    , 10.6195    , 11.2195    , 11.2195    ,\n",
       "       10.919499  , 10.8195    , 10.8195    , 10.8695    , 11.0695    ,\n",
       "       11.169499  , 11.2195    , 11.2695    , 11.2695    , 11.2195    ,\n",
       "       11.0695    , 11.169499  , 11.3695    , 11.5195    , 11.419499  ,\n",
       "       11.419499  , 11.5695    , 11.669499  , 11.9695    , 12.0695    ,\n",
       "       12.3695    , 12.4695    , 12.1195    , 11.5695    , 10.4695    ,\n",
       "        9.3195    ,  8.0695    ,  7.4694996 ,  7.1194997 ,  6.5695    ,\n",
       "        6.4195    ,  5.7695    ,  4.9694996 ,  4.2695    ,  3.5695    ,\n",
       "        2.9195    ,  2.4695    ,  2.2195    ,  1.8195    ,  1.5695    ,\n",
       "        1.3195    ,  1.3695    ,  2.5195    ,  4.0695    ,  5.3195    ,\n",
       "        6.2194996 ,  6.7695    ,  7.0695    ,  6.8195    ,  5.9040003 ,\n",
       "        4.954     ,  4.454     ,  4.1540003 ,  3.854     ,  3.5540001 ,\n",
       "        3.3040001 ,  3.104     ,  2.954     ,  2.7540002 ,  2.5540001 ,\n",
       "        2.454     ,  2.3040001 ,  2.204     ,  1.9039999 ,  1.754     ,\n",
       "        1.754     ,  2.2540002 ,  3.154     ,  4.254     ,  5.1540003 ,\n",
       "        5.604     ,  5.604     ,  5.304     ,  4.304     ,  3.2540002 ,\n",
       "        2.404     ,  1.754     ,  1.254     ,  0.90400004,  0.704     ,\n",
       "        0.65400004,  0.604     ,  0.604     ,  0.604     ,  0.604     ,\n",
       "        0.604     ,  0.604     ,  0.65400004,  0.75399995,  0.90400004,\n",
       "        1.4039999 ,  2.454     ,  3.8040001 ,  4.9040003 ,  5.6540003 ,\n",
       "        6.1540003 ,  6.204     ,  5.604     ,  4.554     ,  3.604     ,\n",
       "        2.954     ,  2.404     ,  2.004     ,  1.804     ,  1.704     ,\n",
       "        1.604     ,  1.4039999 ,  1.1539999 ,  0.90400004,  0.65400004,\n",
       "        0.454     ,  0.404     ,  0.504     ,  0.75399995,  1.104     ,\n",
       "        1.704     ,  2.454     ,  2.954     ,  3.604     ,  4.354     ,\n",
       "        5.4040003 ,  7.104     ,  9.104     , 10.704     , 11.604     ,\n",
       "       12.104     , 12.454     , 12.704     , 12.854     , 12.854     ,\n",
       "       12.754     , 12.554     , 12.404     , 12.404     , 12.404     ,\n",
       "       12.454     , 12.454     , 12.404     , 12.454     , 12.704     ,\n",
       "       13.004     , 13.054     , 12.704     , 12.154     , 11.454     ,\n",
       "       10.604     ,  9.654     ,  8.954     ,  8.654     ,  8.654     ,\n",
       "        8.654     ,  8.654     ,  8.754     ], dtype=float32)"
      ]
     },
     "execution_count": 78,
     "metadata": {},
     "output_type": "execute_result"
    }
   ],
   "execution_count": 78
  },
  {
   "metadata": {
    "ExecuteTime": {
     "end_time": "2024-11-18T18:52:23.974136Z",
     "start_time": "2024-11-18T18:52:23.965704Z"
    }
   },
   "cell_type": "code",
   "source": "hourly.Variables(1).ValuesAsNumpy()",
   "id": "12b0e80ab6f0b698",
   "outputs": [
    {
     "data": {
      "text/plain": [
       "array([0.        , 0.        , 0.        , 0.        , 0.        ,\n",
       "       0.        , 0.        , 0.        , 0.        , 0.        ,\n",
       "       0.        , 0.        , 0.        , 0.        , 0.2       ,\n",
       "       0.3       , 0.90000004, 0.5       , 0.7       , 0.5       ,\n",
       "       0.4       , 0.2       , 0.3       , 0.2       , 0.6       ,\n",
       "       0.4       , 0.        , 0.        , 0.        , 0.        ,\n",
       "       0.3       , 0.1       , 0.1       , 0.3       , 0.6       ,\n",
       "       0.9       , 1.        , 1.6       , 1.7       , 2.5       ,\n",
       "       0.9       , 0.6       , 0.        , 0.        , 0.        ,\n",
       "       0.        , 0.        , 0.        , 0.        , 0.        ,\n",
       "       0.        , 0.        , 0.        , 0.        , 0.        ,\n",
       "       0.        , 0.        , 0.        , 0.        , 0.        ,\n",
       "       0.        , 0.        , 0.        , 0.        , 0.        ,\n",
       "       0.        , 0.        , 0.        , 0.        , 0.        ,\n",
       "       0.        , 0.        , 0.        , 0.        , 0.        ,\n",
       "       0.        , 0.        , 0.        , 0.        , 0.        ,\n",
       "       0.        , 0.        , 0.        , 0.        , 0.        ,\n",
       "       0.        , 0.        , 0.        , 0.        , 0.        ,\n",
       "       0.        , 0.        , 0.        , 0.        , 0.        ,\n",
       "       0.        , 0.        , 0.        , 0.        , 0.        ,\n",
       "       0.        , 0.        , 0.        , 0.        , 0.        ,\n",
       "       0.        , 0.        , 0.        , 0.        , 0.        ,\n",
       "       0.        , 0.        , 0.        , 0.        , 0.        ,\n",
       "       0.        , 0.        , 0.        , 0.        , 0.        ,\n",
       "       0.        , 0.        , 0.        , 0.        , 0.        ,\n",
       "       0.        , 0.        , 0.        , 0.        , 0.        ,\n",
       "       0.2       , 0.2       , 0.2       , 0.9       , 0.9       ,\n",
       "       0.9       , 0.1       , 0.1       , 0.1       , 0.        ,\n",
       "       0.        , 0.        , 0.        , 0.        , 0.        ,\n",
       "       0.        , 0.        , 0.        , 0.        , 0.        ,\n",
       "       0.        , 0.1       , 0.1       , 0.1       , 0.2       ,\n",
       "       0.2       , 0.2       , 1.3       , 1.3       , 1.3       ,\n",
       "       1.4       , 1.4       , 1.4       , 1.4       , 1.4       ,\n",
       "       1.4       , 1.6       , 1.6       ], dtype=float32)"
      ]
     },
     "execution_count": 79,
     "metadata": {},
     "output_type": "execute_result"
    }
   ],
   "execution_count": 79
  },
  {
   "metadata": {
    "ExecuteTime": {
     "end_time": "2024-11-18T22:20:33.598015Z",
     "start_time": "2024-11-18T22:20:33.583288Z"
    }
   },
   "cell_type": "code",
   "source": "print(dir(hourly))",
   "id": "6e6c7531f969485b",
   "outputs": [
    {
     "name": "stdout",
     "output_type": "stream",
     "text": [
      "['GetRootAs', 'GetRootAsVariablesWithTime', 'Init', 'Interval', 'Time', 'TimeEnd', 'Variables', 'VariablesIsNone', 'VariablesLength', '__class__', '__delattr__', '__dir__', '__doc__', '__eq__', '__format__', '__ge__', '__getattribute__', '__getstate__', '__gt__', '__hash__', '__init__', '__init_subclass__', '__le__', '__lt__', '__module__', '__ne__', '__new__', '__reduce__', '__reduce_ex__', '__repr__', '__setattr__', '__sizeof__', '__slots__', '__str__', '__subclasshook__', '_tab']\n"
     ]
    }
   ],
   "execution_count": 83
  },
  {
   "metadata": {
    "ExecuteTime": {
     "end_time": "2024-11-18T17:54:16.735068Z",
     "start_time": "2024-11-18T17:54:16.728426Z"
    }
   },
   "cell_type": "code",
   "source": "print(dir(dd))",
   "id": "6d9e283aa6691d09",
   "outputs": [
    {
     "name": "stdout",
     "output_type": "stream",
     "text": [
      "['Current', 'Daily', 'Elevation', 'GenerationTimeMilliseconds', 'GetRootAs', 'GetRootAsWeatherApiResponse', 'Hourly', 'Init', 'Latitude', 'LocationId', 'Longitude', 'Minutely15', 'Model', 'SixHourly', 'Timezone', 'TimezoneAbbreviation', 'UtcOffsetSeconds', '__class__', '__delattr__', '__dir__', '__doc__', '__eq__', '__format__', '__ge__', '__getattribute__', '__getstate__', '__gt__', '__hash__', '__init__', '__init_subclass__', '__le__', '__lt__', '__module__', '__ne__', '__new__', '__reduce__', '__reduce_ex__', '__repr__', '__setattr__', '__sizeof__', '__slots__', '__str__', '__subclasshook__', '_tab']\n"
     ]
    }
   ],
   "execution_count": 40
  },
  {
   "metadata": {
    "ExecuteTime": {
     "end_time": "2024-11-18T22:30:23.609110Z",
     "start_time": "2024-11-18T22:30:23.600346Z"
    }
   },
   "cell_type": "code",
   "source": "hourly.VariablesLength()",
   "id": "3e704fdf6b0984d7",
   "outputs": [
    {
     "data": {
      "text/plain": [
       "2"
      ]
     },
     "execution_count": 86,
     "metadata": {},
     "output_type": "execute_result"
    }
   ],
   "execution_count": 86
  },
  {
   "metadata": {
    "ExecuteTime": {
     "end_time": "2024-11-18T19:20:03.501704Z",
     "start_time": "2024-11-18T19:20:03.490050Z"
    }
   },
   "cell_type": "code",
   "source": "pd.to_datetime(hourly.Time(), unit = \"s\", utc = True)",
   "id": "3d56e5d8d5d8fd20",
   "outputs": [
    {
     "data": {
      "text/plain": [
       "Timestamp('2024-11-18 00:00:00+0000', tz='UTC')"
      ]
     },
     "execution_count": 81,
     "metadata": {},
     "output_type": "execute_result"
    }
   ],
   "execution_count": 81
  },
  {
   "metadata": {
    "ExecuteTime": {
     "end_time": "2024-11-18T22:33:10.132483Z",
     "start_time": "2024-11-18T22:33:10.126661Z"
    }
   },
   "cell_type": "code",
   "source": [
    "e =range(2)\n",
    "e[0]"
   ],
   "id": "644475a414bb4390",
   "outputs": [
    {
     "data": {
      "text/plain": [
       "0"
      ]
     },
     "execution_count": 91,
     "metadata": {},
     "output_type": "execute_result"
    }
   ],
   "execution_count": 91
  },
  {
   "metadata": {
    "ExecuteTime": {
     "end_time": "2024-11-18T17:50:34.924051Z",
     "start_time": "2024-11-18T17:50:34.914278Z"
    }
   },
   "cell_type": "code",
   "source": [
    "hourly = dd.Hourly()\n",
    "hourly_temperature_2m = hourly.Variables(0).ValuesAsNumpy()\n",
    "\n",
    "hourly_data = {\"date\": pd.date_range(\n",
    "\tstart = pd.to_datetime(hourly.Time(), unit = \"s\", utc = True),\n",
    "\tend = pd.to_datetime(hourly.TimeEnd(), unit = \"s\", utc = True),\n",
    "\tfreq = pd.Timedelta(seconds = hourly.Interval()),\n",
    "\tinclusive = \"left\"\n",
    ")}\n",
    "hourly_data[\"temperature_2m\"] = hourly_temperature_2m\n",
    "\n",
    "hourly_dataframe = pd.DataFrame(data = hourly_data)\n",
    "print(hourly_dataframe)"
   ],
   "id": "f7be7ea71ed3eff1",
   "outputs": [
    {
     "name": "stdout",
     "output_type": "stream",
     "text": [
      "                         date  temperature_2m\n",
      "0   2024-11-18 00:00:00+00:00          7.8195\n",
      "1   2024-11-18 01:00:00+00:00          8.0695\n",
      "2   2024-11-18 02:00:00+00:00          8.2695\n",
      "3   2024-11-18 03:00:00+00:00          7.6695\n",
      "4   2024-11-18 04:00:00+00:00          7.5195\n",
      "..                        ...             ...\n",
      "163 2024-11-24 19:00:00+00:00          8.6540\n",
      "164 2024-11-24 20:00:00+00:00          8.6540\n",
      "165 2024-11-24 21:00:00+00:00          8.6540\n",
      "166 2024-11-24 22:00:00+00:00          8.6540\n",
      "167 2024-11-24 23:00:00+00:00          8.7540\n",
      "\n",
      "[168 rows x 2 columns]\n"
     ]
    }
   ],
   "execution_count": 35
  },
  {
   "metadata": {
    "ExecuteTime": {
     "end_time": "2024-11-18T17:51:11.167675Z",
     "start_time": "2024-11-18T17:51:11.158560Z"
    }
   },
   "cell_type": "code",
   "source": [
    "hourly_temperature_2m = hourly.Variables(0).ValuesAsNumpy()\n",
    "hourly_temperature_2m"
   ],
   "id": "53a791e59cb064a0",
   "outputs": [
    {
     "data": {
      "text/plain": [
       "array([ 7.8195    ,  8.0695    ,  8.2695    ,  7.6695    ,  7.5195    ,\n",
       "        7.8694997 ,  8.2195    ,  8.169499  ,  8.419499  ,  9.0195    ,\n",
       "        9.419499  , 10.3695    , 10.6195    , 11.2195    , 11.2195    ,\n",
       "       10.919499  , 10.8195    , 10.8195    , 10.8695    , 11.0695    ,\n",
       "       11.169499  , 11.2195    , 11.2695    , 11.2695    , 11.2195    ,\n",
       "       11.0695    , 11.169499  , 11.3695    , 11.5195    , 11.419499  ,\n",
       "       11.419499  , 11.5695    , 11.669499  , 11.9695    , 12.0695    ,\n",
       "       12.3695    , 12.4695    , 12.1195    , 11.5695    , 10.4695    ,\n",
       "        9.3195    ,  8.0695    ,  7.4694996 ,  7.1194997 ,  6.5695    ,\n",
       "        6.4195    ,  5.7695    ,  4.9694996 ,  4.2695    ,  3.5695    ,\n",
       "        2.9195    ,  2.4695    ,  2.2195    ,  1.8195    ,  1.5695    ,\n",
       "        1.3195    ,  1.3695    ,  2.5195    ,  4.0695    ,  5.3195    ,\n",
       "        6.2194996 ,  6.7695    ,  7.0695    ,  6.8195    ,  5.9040003 ,\n",
       "        4.954     ,  4.454     ,  4.1540003 ,  3.854     ,  3.5540001 ,\n",
       "        3.3040001 ,  3.104     ,  2.954     ,  2.7540002 ,  2.5540001 ,\n",
       "        2.454     ,  2.3040001 ,  2.204     ,  1.9039999 ,  1.754     ,\n",
       "        1.754     ,  2.2540002 ,  3.154     ,  4.254     ,  5.1540003 ,\n",
       "        5.604     ,  5.604     ,  5.304     ,  4.304     ,  3.2540002 ,\n",
       "        2.404     ,  1.754     ,  1.254     ,  0.90400004,  0.704     ,\n",
       "        0.65400004,  0.604     ,  0.604     ,  0.604     ,  0.604     ,\n",
       "        0.604     ,  0.604     ,  0.65400004,  0.75399995,  0.90400004,\n",
       "        1.4039999 ,  2.454     ,  3.8040001 ,  4.9040003 ,  5.6540003 ,\n",
       "        6.1540003 ,  6.204     ,  5.604     ,  4.554     ,  3.604     ,\n",
       "        2.954     ,  2.404     ,  2.004     ,  1.804     ,  1.704     ,\n",
       "        1.604     ,  1.4039999 ,  1.1539999 ,  0.90400004,  0.65400004,\n",
       "        0.454     ,  0.404     ,  0.504     ,  0.75399995,  1.104     ,\n",
       "        1.704     ,  2.454     ,  2.954     ,  3.604     ,  4.354     ,\n",
       "        5.4040003 ,  7.104     ,  9.104     , 10.704     , 11.604     ,\n",
       "       12.104     , 12.454     , 12.704     , 12.854     , 12.854     ,\n",
       "       12.754     , 12.554     , 12.404     , 12.404     , 12.404     ,\n",
       "       12.454     , 12.454     , 12.404     , 12.454     , 12.704     ,\n",
       "       13.004     , 13.054     , 12.704     , 12.154     , 11.454     ,\n",
       "       10.604     ,  9.654     ,  8.954     ,  8.654     ,  8.654     ,\n",
       "        8.654     ,  8.654     ,  8.754     ], dtype=float32)"
      ]
     },
     "execution_count": 37,
     "metadata": {},
     "output_type": "execute_result"
    }
   ],
   "execution_count": 37
  },
  {
   "metadata": {},
   "cell_type": "code",
   "outputs": [],
   "execution_count": null,
   "source": "",
   "id": "ab704c66e18ee9e4"
  },
  {
   "metadata": {
    "ExecuteTime": {
     "end_time": "2024-11-18T22:48:12.942997Z",
     "start_time": "2024-11-18T22:48:12.286461Z"
    }
   },
   "cell_type": "code",
   "source": [
    "import openmeteo_requests\n",
    "\n",
    "import requests_cache\n",
    "import pandas as pd\n",
    "from retry_requests import retry\n",
    "\n",
    "# Setup the Open-Meteo API client with cache and retry on error\n",
    "cache_session = requests_cache.CachedSession('.cache', expire_after = 3600)\n",
    "retry_session = retry(cache_session, retries = 5, backoff_factor = 0.2)\n",
    "openmeteo = openmeteo_requests.Client(session = retry_session)\n",
    "\n",
    "# Make sure all required weather variables are listed here\n",
    "# The order of variables in hourly or daily is important to assign them correctly below\n",
    "url = \"https://api.open-meteo.com/v1/forecast\"\n",
    "params = {\n",
    "\t\"latitude\": 48.8534,\n",
    "\t\"longitude\": 2.3488,\n",
    "\t\"hourly\": [\"temperature_2m\", \"rain\"]\n",
    "}\n",
    "responses = openmeteo.weather_api(url, params=params)\n",
    "\n",
    "# Process first location. Add a for-loop for multiple locations or weather models\n",
    "response = responses[0]\n",
    "print(f\"Coordinates {response.Latitude()}°N {response.Longitude()}°E\")\n",
    "print(f\"Elevation {response.Elevation()} m asl\")\n",
    "print(f\"Timezone {response.Timezone()} {response.TimezoneAbbreviation()}\")\n",
    "print(f\"Timezone difference to GMT+0 {response.UtcOffsetSeconds()} s\")\n",
    "\n",
    "# Process hourly data. The order of variables needs to be the same as requested.\n",
    "hourly = response.Hourly()\n",
    "hourly_temperature_2m = hourly.Variables(0).ValuesAsNumpy()\n",
    "\n",
    "hourly_data = {\"date\": pd.date_range(\n",
    "\tstart = pd.to_datetime(hourly.Time(), unit = \"s\", utc = True),\n",
    "\tend = pd.to_datetime(hourly.TimeEnd(), unit = \"s\", utc = True),\n",
    "\tfreq = pd.Timedelta(seconds = hourly.Interval()),\n",
    "\tinclusive = \"left\"\n",
    ")}\n",
    "hourly_data[\"temperature_2m\"] = hourly_temperature_2m\n",
    "\n",
    "hourly_dataframe = pd.DataFrame(data = hourly_data)\n",
    "print(hourly_dataframe)"
   ],
   "id": "2083dcff3861be1d",
   "outputs": [
    {
     "name": "stdout",
     "output_type": "stream",
     "text": [
      "Coordinates 48.86000061035156°N 2.3399996757507324°E\n",
      "Elevation 43.0 m asl\n",
      "Timezone None None\n",
      "Timezone difference to GMT+0 0 s\n",
      "                         date  temperature_2m\n",
      "0   2024-11-18 00:00:00+00:00          7.8195\n",
      "1   2024-11-18 01:00:00+00:00          8.0695\n",
      "2   2024-11-18 02:00:00+00:00          8.2695\n",
      "3   2024-11-18 03:00:00+00:00          7.6695\n",
      "4   2024-11-18 04:00:00+00:00          7.5195\n",
      "..                        ...             ...\n",
      "163 2024-11-24 19:00:00+00:00          8.6540\n",
      "164 2024-11-24 20:00:00+00:00          8.6540\n",
      "165 2024-11-24 21:00:00+00:00          8.6540\n",
      "166 2024-11-24 22:00:00+00:00          8.6540\n",
      "167 2024-11-24 23:00:00+00:00          8.7540\n",
      "\n",
      "[168 rows x 2 columns]\n"
     ]
    }
   ],
   "execution_count": 95
  },
  {
   "metadata": {
    "ExecuteTime": {
     "end_time": "2024-11-18T22:50:40.459984Z",
     "start_time": "2024-11-18T22:50:40.451458Z"
    }
   },
   "cell_type": "code",
   "source": "hourly_data[\"date\"].shape",
   "id": "36b9d7e1316cf966",
   "outputs": [
    {
     "data": {
      "text/plain": [
       "(168,)"
      ]
     },
     "execution_count": 103,
     "metadata": {},
     "output_type": "execute_result"
    }
   ],
   "execution_count": 103
  },
  {
   "metadata": {
    "ExecuteTime": {
     "end_time": "2024-11-18T22:45:07.151757Z",
     "start_time": "2024-11-18T22:45:07.143619Z"
    }
   },
   "cell_type": "code",
   "source": [
    "for i in range(2):\n",
    "    "
   ],
   "id": "403f79909500ef94",
   "outputs": [
    {
     "ename": "SyntaxError",
     "evalue": "'return' outside function (1481768534.py, line 2)",
     "output_type": "error",
     "traceback": [
      "\u001B[1;36m  Cell \u001B[1;32mIn[94], line 2\u001B[1;36m\u001B[0m\n\u001B[1;33m    return print(i)\u001B[0m\n\u001B[1;37m    ^\u001B[0m\n\u001B[1;31mSyntaxError\u001B[0m\u001B[1;31m:\u001B[0m 'return' outside function\n"
     ]
    }
   ],
   "execution_count": 94
  },
  {
   "metadata": {
    "ExecuteTime": {
     "end_time": "2024-11-18T23:18:29.604252Z",
     "start_time": "2024-11-18T23:18:29.584103Z"
    }
   },
   "cell_type": "code",
   "source": [
    "# Définir les dates de début et de fin\n",
    "start_date = pd.to_datetime(\"2023-10-01 00:00:00\")\n",
    "end_date = pd.to_datetime(\"2023-10-01 00:00:05\")\n",
    "\n",
    "# Générer la plage de dates\n",
    "e = pd.date_range(start=start_date, end=end_date, freq=pd.Timedelta(seconds=1), inclusive=\"left\")\n",
    "\n",
    "print(e)"
   ],
   "id": "f4104e3dfabc59c0",
   "outputs": [
    {
     "name": "stdout",
     "output_type": "stream",
     "text": [
      "DatetimeIndex(['2023-10-01 00:00:00', '2023-10-01 00:00:01',\n",
      "               '2023-10-01 00:00:02', '2023-10-01 00:00:03',\n",
      "               '2023-10-01 00:00:04'],\n",
      "              dtype='datetime64[ns]', freq='s')\n"
     ]
    }
   ],
   "execution_count": 125
  },
  {
   "metadata": {
    "ExecuteTime": {
     "end_time": "2024-11-18T23:39:19.655443Z",
     "start_time": "2024-11-18T23:39:19.643586Z"
    }
   },
   "cell_type": "code",
   "source": [
    "\n",
    "cache_session = requests_cache.CachedSession('.cache', expire_after = 3600)\n",
    "retry_session = retry(cache_session, retries = 5, backoff_factor = 0.2)\n",
    "\n",
    "openmeteo = openmeteo_requests.Client(session = retry_session)\n",
    "\n",
    "\n",
    "def get_weather_data1(latitude: float, longitude: float, openmeteo = openmeteo):\n",
    "    hourly_params = [\"temperature_2m\", \"rain\"]\n",
    "    params = {\n",
    "        \"latitude\": latitude,\n",
    "        \"longitude\": longitude,\n",
    "        \"hourly\": \",\".join(hourly_params)\n",
    "    }\n",
    "    try:\n",
    "        responses = openmeteo.weather_api(url, params =params)\n",
    "    except requests.exceptions.RequestException as e:\n",
    "        return {\"erreur\": str(e)}\n",
    "\n",
    "    data_object = responses[0]\n",
    "    hourly_object = data_object.Hourly()\n",
    "    data = {}\n",
    "    import pandas as pd\n",
    "    \n",
    "    data[\"time\"] = pd.date_range(\n",
    "        start= pd.to_datetime(hourly_object.Time(), unit = \"s\", utc = True),\n",
    "        end= pd.to_datetime(hourly_object.TimeEnd(), unit = \"s\", utc = True),\n",
    "        freq = pd.Timedelta(seconds= hourly_object.Interval()), inclusive = \"left\")\n",
    "    for i in range(hourly_object.VariablesLength()):\n",
    "        data[hourly_params[i]] = hourly_object.Variables(i).ValuesAsNumpy()\n",
    "\n",
    "    return data"
   ],
   "id": "4a4bd2cc7f71a2bd",
   "outputs": [],
   "execution_count": 130
  },
  {
   "metadata": {
    "ExecuteTime": {
     "end_time": "2024-11-18T23:39:22.280168Z",
     "start_time": "2024-11-18T23:39:21.693425Z"
    }
   },
   "cell_type": "code",
   "source": "data = get_weather_data1(48.8534, 2.3488)",
   "id": "80f94fd2c8167c31",
   "outputs": [],
   "execution_count": 131
  },
  {
   "metadata": {
    "ExecuteTime": {
     "end_time": "2024-11-19T21:57:22.445667Z",
     "start_time": "2024-11-19T21:57:22.430479Z"
    }
   },
   "cell_type": "code",
   "source": "from decouple import config",
   "id": "f3facd7d75e29a0d",
   "outputs": [],
   "execution_count": 1
  },
  {
   "metadata": {
    "ExecuteTime": {
     "end_time": "2024-11-19T21:58:23.010551Z",
     "start_time": "2024-11-19T21:58:22.999117Z"
    }
   },
   "cell_type": "code",
   "source": "config(\"URL_CRYPTO\")",
   "id": "f0d3aa3cddeb5118",
   "outputs": [
    {
     "data": {
      "text/plain": [
       "'https://api.kraken.com'"
      ]
     },
     "execution_count": 3,
     "metadata": {},
     "output_type": "execute_result"
    }
   ],
   "execution_count": 3
  },
  {
   "metadata": {
    "ExecuteTime": {
     "end_time": "2024-11-19T22:04:31.336616Z",
     "start_time": "2024-11-19T22:04:30.315620Z"
    }
   },
   "cell_type": "code",
   "source": [
    "import requests\n",
    "from decouple import config\n",
    "import requests_cache\n",
    "from retry_requests import retry\n",
    "import openmeteo_requests\n",
    "\n",
    "\n",
    "\n",
    "WEATHER_URL = config(\"URl_WEATHER\", default = \"https://api.open-meteo.com/v1/forecast\")\n",
    "url = f\"{WEATHER_URL}\"\n",
    "\n",
    "cache_session = requests_cache.CachedSession('.cache', expire_after = 3600)\n",
    "retry_session = retry(cache_session, retries = 5, backoff_factor = 0.2)\n",
    "\n",
    "openmeteo = openmeteo_requests.Client(session = retry_session)\n",
    "def get_weather_data(latitude: float, longitude: float, opmeteo = openmeteo):\n",
    "    hourly_params = [\"temperature_2m\", \"rain\"]\n",
    "    params = {\n",
    "        \"latitude\": latitude,\n",
    "        \"longitude\": longitude,\n",
    "        \"hourly\": \",\".join(hourly_params)\n",
    "    }\n",
    "    try:\n",
    "        responses = opmeteo.weather_api(url, params =params)\n",
    "    except requests.exceptions.RequestException as e:\n",
    "        return {\"erreur\": str(e)}\n",
    "\n",
    "    data_object = responses[0]\n",
    "    hourly_object = data_object.Hourly()\n",
    "    data = {}\n",
    "    import pandas as pd\n",
    "\n",
    "    data[\"time\"] = pd.date_range(\n",
    "        start= pd.to_datetime(hourly_object.Time(), unit = \"s\", utc = True),\n",
    "        end= pd.to_datetime(hourly_object.TimeEnd(), unit = \"s\", utc = True),\n",
    "        freq = pd.Timedelta(seconds= hourly_object.Interval()), inclusive = \"left\")\n",
    "    for i in range(hourly_object.VariablesLength()):\n",
    "        data[hourly_params[i]] = hourly_object.Variables(i).ValuesAsNumpy()\n",
    "\n",
    "    return data\n",
    "\n"
   ],
   "id": "ed6f89b491f52e0c",
   "outputs": [],
   "execution_count": 4
  },
  {
   "metadata": {
    "ExecuteTime": {
     "end_time": "2024-11-19T22:04:53.078785Z",
     "start_time": "2024-11-19T22:04:53.055815Z"
    }
   },
   "cell_type": "code",
   "source": [
    "data = get_weather_data(48.8534, 2.3488)\n",
    "data"
   ],
   "id": "714763411d177666",
   "outputs": [
    {
     "data": {
      "text/plain": [
       "{'time': DatetimeIndex(['2024-11-19 00:00:00+00:00', '2024-11-19 01:00:00+00:00',\n",
       "                '2024-11-19 02:00:00+00:00', '2024-11-19 03:00:00+00:00',\n",
       "                '2024-11-19 04:00:00+00:00', '2024-11-19 05:00:00+00:00',\n",
       "                '2024-11-19 06:00:00+00:00', '2024-11-19 07:00:00+00:00',\n",
       "                '2024-11-19 08:00:00+00:00', '2024-11-19 09:00:00+00:00',\n",
       "                ...\n",
       "                '2024-11-25 14:00:00+00:00', '2024-11-25 15:00:00+00:00',\n",
       "                '2024-11-25 16:00:00+00:00', '2024-11-25 17:00:00+00:00',\n",
       "                '2024-11-25 18:00:00+00:00', '2024-11-25 19:00:00+00:00',\n",
       "                '2024-11-25 20:00:00+00:00', '2024-11-25 21:00:00+00:00',\n",
       "                '2024-11-25 22:00:00+00:00', '2024-11-25 23:00:00+00:00'],\n",
       "               dtype='datetime64[ns, UTC]', length=168, freq='h'),\n",
       " 'temperature_2m': array([11.1195    , 10.9695    , 11.2195    , 11.5195    , 11.4695    ,\n",
       "        11.4695    , 11.5195    , 11.5695    , 11.6195    , 11.6195    ,\n",
       "        12.1195    , 12.169499  , 12.419499  , 12.5695    , 12.2695    ,\n",
       "        11.169499  , 10.4695    ,  9.2695    ,  8.7695    ,  8.3695    ,\n",
       "         7.8195    ,  7.4694996 ,  6.9195    ,  5.2695    ,  4.5695    ,\n",
       "         4.4195    ,  4.2695    ,  4.2194996 ,  3.9195    ,  3.3695    ,\n",
       "         2.8695    ,  2.3695    ,  2.3695    ,  3.4195    ,  4.9195    ,\n",
       "         5.8694997 ,  6.4694996 ,  6.6695    ,  6.6194997 ,  6.4694996 ,\n",
       "         5.8694997 ,  3.6695    ,  3.2195    ,  2.9695    ,  2.6695    ,\n",
       "         2.5695    ,  2.4695    ,  2.1695    ,  1.9695001 ,  1.9195    ,\n",
       "         1.9695001 ,  1.9695001 ,  1.7695    ,  1.5195    ,  1.4195    ,\n",
       "         1.4195    ,  1.5695    ,  2.0695    ,  2.7695    ,  3.8195    ,\n",
       "         4.1695    ,  4.3694997 ,  4.6194997 ,  4.5695    ,  4.0195    ,\n",
       "         3.0195    ,  2.3195    ,  1.604     ,  1.104     ,  0.854     ,\n",
       "         0.65400004,  0.504     ,  0.454     ,  0.454     ,  0.554     ,\n",
       "         0.65400004,  0.704     ,  0.704     ,  0.804     ,  0.854     ,\n",
       "         1.104     ,  1.9039999 ,  3.3040001 ,  4.954     ,  5.854     ,\n",
       "         6.254     ,  5.6540003 ,  5.454     ,  4.9040003 ,  4.4040003 ,\n",
       "         3.8040001 ,  3.454     ,  3.0040002 ,  2.704     ,  2.454     ,\n",
       "         2.0540001 ,  1.704     ,  1.6539999 ,  1.754     ,  1.804     ,\n",
       "         1.704     ,  1.604     ,  1.604     ,  1.754     ,  2.0540001 ,\n",
       "         2.5540001 ,  3.404     ,  4.504     ,  5.354     ,  5.754     ,\n",
       "         5.9040003 ,  6.254     ,  6.954     ,  7.854     ,  8.704     ,\n",
       "         9.554     , 10.404     , 11.104     , 11.654     , 12.104     ,\n",
       "        12.354     , 12.304     , 12.054     , 11.904     , 11.854     ,\n",
       "        11.904     , 12.004     , 12.104     , 12.354     , 12.804     ,\n",
       "        13.804     , 15.104     , 16.053999  , 16.354     , 16.354     ,\n",
       "        16.053999  , 15.454     , 14.554     , 13.954     , 13.504     ,\n",
       "        13.554     , 13.554     , 13.454     , 13.304     , 13.154     ,\n",
       "        13.054     , 12.954     , 12.904     , 12.854     , 12.854     ,\n",
       "        12.904     , 13.004     , 13.154     , 13.254     , 13.354     ,\n",
       "        13.404     , 13.354     , 13.204     , 12.954     , 12.654     ,\n",
       "        12.354     , 12.054     , 11.754     , 11.404     , 11.054     ,\n",
       "        10.754     , 10.554     , 10.454     ], dtype=float32),\n",
       " 'rain': array([0.4       , 0.3       , 0.1       , 0.        , 0.        ,\n",
       "        0.        , 0.        , 0.        , 0.        , 0.1       ,\n",
       "        0.3       , 1.4000001 , 1.2       , 0.8       , 2.3       ,\n",
       "        1.1       , 2.5       , 3.6999998 , 0.8000001 , 0.1       ,\n",
       "        0.3       , 0.        , 0.        , 0.4       , 0.70000005,\n",
       "        0.        , 0.        , 0.        , 0.        , 0.        ,\n",
       "        0.        , 0.        , 0.        , 0.        , 0.        ,\n",
       "        0.        , 0.        , 0.        , 0.        , 0.        ,\n",
       "        0.        , 0.4       , 0.        , 0.        , 0.        ,\n",
       "        0.        , 0.        , 0.        , 0.        , 0.        ,\n",
       "        0.        , 0.        , 0.        , 0.        , 0.        ,\n",
       "        0.        , 0.        , 0.        , 0.        , 0.        ,\n",
       "        0.        , 0.        , 0.        , 0.        , 0.        ,\n",
       "        0.        , 0.        , 0.        , 0.        , 0.        ,\n",
       "        0.        , 0.        , 0.        , 0.        , 0.        ,\n",
       "        0.        , 0.        , 0.        , 0.        , 0.        ,\n",
       "        0.        , 0.        , 0.        , 0.        , 0.        ,\n",
       "        0.        , 0.        , 0.        , 0.        , 0.        ,\n",
       "        0.        , 0.        , 0.        , 0.        , 0.        ,\n",
       "        0.        , 0.        , 0.        , 0.        , 0.        ,\n",
       "        0.        , 0.        , 0.        , 0.        , 0.        ,\n",
       "        0.        , 0.        , 0.        , 0.        , 0.8       ,\n",
       "        0.8       , 0.8       , 0.7       , 0.7       , 0.7       ,\n",
       "        0.3       , 0.3       , 0.3       , 0.3       , 0.3       ,\n",
       "        0.3       , 0.        , 0.        , 0.        , 0.        ,\n",
       "        0.        , 0.        , 0.        , 0.        , 0.        ,\n",
       "        0.        , 0.        , 0.        , 0.        , 0.        ,\n",
       "        0.        , 0.        , 0.        , 0.        , 0.        ,\n",
       "        0.        , 0.        , 0.        , 0.        , 0.        ,\n",
       "        0.        , 0.        , 0.        , 0.        , 0.        ,\n",
       "        0.        , 0.3       , 0.3       , 0.3       , 0.7       ,\n",
       "        0.7       , 0.7       , 0.1       , 0.1       , 0.1       ,\n",
       "        0.        , 0.        , 0.        , 0.        , 0.        ,\n",
       "        0.        , 0.        , 0.        ], dtype=float32)}"
      ]
     },
     "execution_count": 7,
     "metadata": {},
     "output_type": "execute_result"
    }
   ],
   "execution_count": 7
  },
  {
   "metadata": {
    "ExecuteTime": {
     "end_time": "2024-11-20T01:47:12.860641Z",
     "start_time": "2024-11-20T01:47:12.855743Z"
    }
   },
   "cell_type": "code",
   "source": [
    "from pydantic import BaseModel\n",
    "from typing import List, Optional\n",
    "\n",
    "\n"
   ],
   "id": "9af6e20e5972b5bb",
   "outputs": [],
   "execution_count": 4
  },
  {
   "metadata": {
    "ExecuteTime": {
     "end_time": "2024-11-20T01:47:15.448250Z",
     "start_time": "2024-11-20T01:47:15.426377Z"
    }
   },
   "cell_type": "code",
   "source": [
    "class d(BaseModel):\n",
    "    t: List[str]\n",
    "    o: Optional[list[int]] = []\n",
    "    p: str\n",
    "\n",
    "class oglo(BaseMOdel):\n",
    "    key:d"
   ],
   "id": "851f5d4567ef0444",
   "outputs": [
    {
     "ename": "NameError",
     "evalue": "name 'BaseMOdel' is not defined",
     "output_type": "error",
     "traceback": [
      "\u001B[1;31m---------------------------------------------------------------------------\u001B[0m",
      "\u001B[1;31mNameError\u001B[0m                                 Traceback (most recent call last)",
      "Cell \u001B[1;32mIn[5], line 6\u001B[0m\n\u001B[0;32m      3\u001B[0m     o: Optional[\u001B[38;5;28mlist\u001B[39m[\u001B[38;5;28mint\u001B[39m]] \u001B[38;5;241m=\u001B[39m []\n\u001B[0;32m      4\u001B[0m     p: \u001B[38;5;28mstr\u001B[39m\n\u001B[1;32m----> 6\u001B[0m \u001B[38;5;28;01mclass\u001B[39;00m \u001B[38;5;21;01moglo\u001B[39;00m(\u001B[43mBaseMOdel\u001B[49m):\n\u001B[0;32m      7\u001B[0m     key:d\n",
      "\u001B[1;31mNameError\u001B[0m: name 'BaseMOdel' is not defined"
     ]
    }
   ],
   "execution_count": 5
  },
  {
   "metadata": {},
   "cell_type": "code",
   "outputs": [],
   "execution_count": null,
   "source": [
    "d = [\"cdcdc\", \"dcdcd\"]\n",
    "ds = [2, 5, 7]\n",
    "s = \"ddss\""
   ],
   "id": "b6773e8994862d71"
  },
  {
   "metadata": {
    "ExecuteTime": {
     "end_time": "2024-11-20T01:44:41.632483Z",
     "start_time": "2024-11-20T01:44:41.313465Z"
    }
   },
   "cell_type": "code",
   "source": "qs = d(t=d,o=ds,p=s)",
   "id": "50c1505aef7019a3",
   "outputs": [
    {
     "ename": "NameError",
     "evalue": "name 'd' is not defined",
     "output_type": "error",
     "traceback": [
      "\u001B[1;31m---------------------------------------------------------------------------\u001B[0m",
      "\u001B[1;31mNameError\u001B[0m                                 Traceback (most recent call last)",
      "Cell \u001B[1;32mIn[1], line 1\u001B[0m\n\u001B[1;32m----> 1\u001B[0m qs \u001B[38;5;241m=\u001B[39m \u001B[43md\u001B[49m(t\u001B[38;5;241m=\u001B[39md,o\u001B[38;5;241m=\u001B[39mds,p\u001B[38;5;241m=\u001B[39ms)\n",
      "\u001B[1;31mNameError\u001B[0m: name 'd' is not defined"
     ]
    }
   ],
   "execution_count": 1
  },
  {
   "metadata": {},
   "cell_type": "code",
   "outputs": [],
   "execution_count": null,
   "source": "",
   "id": "d362623d8b0e47eb"
  }
 ],
 "metadata": {
  "kernelspec": {
   "display_name": "Python 3",
   "language": "python",
   "name": "python3"
  },
  "language_info": {
   "codemirror_mode": {
    "name": "ipython",
    "version": 2
   },
   "file_extension": ".py",
   "mimetype": "text/x-python",
   "name": "python",
   "nbconvert_exporter": "python",
   "pygments_lexer": "ipython2",
   "version": "2.7.6"
  }
 },
 "nbformat": 4,
 "nbformat_minor": 5
}
